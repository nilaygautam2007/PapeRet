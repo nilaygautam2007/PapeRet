{
 "cells": [
  {
   "cell_type": "code",
   "execution_count": 1,
   "metadata": {},
   "outputs": [],
   "source": [
    "import requests\n",
    "import time\n",
    "from collections import deque\n",
    "from tqdm import tqdm\n",
    "import json"
   ]
  },
  {
   "cell_type": "code",
   "execution_count": 2,
   "metadata": {},
   "outputs": [],
   "source": [
    "# Function to reconstruct the abstract from inverted index to plain text\n",
    "def reconstruct_abstract(abstract_inverted_index):\n",
    "    if not abstract_inverted_index:\n",
    "        return \"\"\n",
    "    \n",
    "    # Find the maximum position to determine the abstract length\n",
    "    max_pos = max(pos for positions in abstract_inverted_index.values() for pos in positions)\n",
    "    abstract_words = [\"\"] * (max_pos + 1)\n",
    "    \n",
    "    for word, positions in abstract_inverted_index.items():\n",
    "        for pos in positions:\n",
    "            abstract_words[pos] = word\n",
    "    \n",
    "    return \" \".join(abstract_words)\n",
    "\n",
    "# # Function to fetch paper metadata using DOI\n",
    "# def fetch_paper_metadata_by_doi(doi):\n",
    "#     url = f\"https://api.openalex.org/works/https://doi.org/{doi}\"\n",
    "#     response = requests.get(url)\n",
    "#     if response.status_code == 200:\n",
    "#         return response.json()\n",
    "#     else:\n",
    "#         print(f\"Failed to fetch data for DOI: {doi} with status code {response.status_code}\")\n",
    "#         return None\n",
    "\n",
    "# # Function to fetch paper metadata using OpenAlex ID\n",
    "# def fetch_paper_metadata_by_openalex_id(openalex_id):\n",
    "#     url = f\"https://api.openalex.org/works/{openalex_id}\"\n",
    "#     response = requests.get(url)\n",
    "#     if response.status_code == 200:\n",
    "#         return response.json()\n",
    "#     else:\n",
    "#         print(f\"Failed to fetch data for OpenAlex ID: {openalex_id} with status code {response.status_code}\")\n",
    "#         return None\n",
    "\n",
    "# Function to fetch paper metadata using DOI\n",
    "def fetch_paper_metadata_by_doi(doi, retries=10):\n",
    "    url = f\"https://api.openalex.org/works/https://doi.org/{doi}\"\n",
    "    for attempt in range(retries):\n",
    "        try:\n",
    "            response = requests.get(url, timeout=10)\n",
    "            response.raise_for_status()  # Raise an error for bad status codes (4xx, 5xx)\n",
    "            return response.json()\n",
    "        except requests.exceptions.HTTPError as http_err:\n",
    "            print(f\"HTTP error occurred for DOI {doi}: {http_err}\")\n",
    "            break  # No point retrying on 4xx errors\n",
    "        except requests.exceptions.ConnectionError:\n",
    "            print(f\"Connection error for DOI {doi}. Attempt {attempt + 1} of {retries}.\")\n",
    "        except requests.exceptions.Timeout:\n",
    "            print(f\"Timeout while fetching DOI {doi}. Attempt {attempt + 1} of {retries}.\")\n",
    "        except requests.exceptions.RequestException as req_err:\n",
    "            print(f\"An unexpected error occurred for DOI {doi}: {req_err}\")\n",
    "            break\n",
    "        time.sleep(1)  # Brief pause before retry\n",
    "    print(f\"Failed to fetch data for DOI: {doi} after {retries} attempts.\")\n",
    "    return None\n",
    "\n",
    "# Function to fetch paper metadata using OpenAlex ID\n",
    "def fetch_paper_metadata_by_openalex_id(openalex_id, retries=10):\n",
    "    url = f\"https://api.openalex.org/works/{openalex_id}\"\n",
    "    for attempt in range(retries):\n",
    "        try:\n",
    "            response = requests.get(url, timeout=10)\n",
    "            response.raise_for_status()  # Raise an error for bad status codes\n",
    "            return response.json()\n",
    "        except requests.exceptions.HTTPError as http_err:\n",
    "            print(f\"HTTP error occurred for OpenAlex ID {openalex_id}: {http_err}\")\n",
    "            break  # No point retrying on 4xx errors\n",
    "        except requests.exceptions.ConnectionError:\n",
    "            print(f\"Connection error for OpenAlex ID {openalex_id}. Attempt {attempt + 1} of {retries}.\")\n",
    "        except requests.exceptions.Timeout:\n",
    "            print(f\"Timeout while fetching OpenAlex ID {openalex_id}. Attempt {attempt + 1} of {retries}.\")\n",
    "        except requests.exceptions.RequestException as req_err:\n",
    "            print(f\"An unexpected error occurred for OpenAlex ID {openalex_id}: {req_err}\")\n",
    "            break\n",
    "        time.sleep(1)  # Brief pause before retry\n",
    "    print(f\"Failed to fetch data for OpenAlex ID: {openalex_id} after {retries} attempts.\")\n",
    "    return None\n",
    "\n",
    "\n",
    "# BFS to fetch references up to a specified depth\n",
    "def fetch_references_bfs(seed_dois, max_depth=2):\n",
    "    result = []\n",
    "    queue = deque([(doi, 0, \"doi\") for doi in seed_dois])  # Initialize queue with seed DOIs and depth 0, using \"doi\" for seed papers\n",
    "    visited = set()  # Track visited papers using DOIs and OpenAlex IDs\n",
    "\n",
    "    current_depth = 0\n",
    "    depth_queue = []  # To store elements of the current depth level for progress tracking\n",
    "\n",
    "    while queue and current_depth <= max_depth:\n",
    "        # Separate elements for the current depth\n",
    "        while queue and queue[0][1] == current_depth:\n",
    "            depth_queue.append(queue.popleft())\n",
    "        \n",
    "        # Create a new progress bar for the current depth\n",
    "        with tqdm(total=len(depth_queue), desc=f\"Processing Depth {current_depth}\") as pbar:\n",
    "\n",
    "            count=0\n",
    "            for current_id, depth, id_type in depth_queue:\n",
    "\n",
    "                count += 1\n",
    "\n",
    "                # Skip if the paper has already been visited\n",
    "                if current_id in visited:\n",
    "                    pbar.update(1)\n",
    "                    continue\n",
    "\n",
    "                # Fetch metadata based on ID type\n",
    "                if id_type == \"doi\":\n",
    "                    paper_data = fetch_paper_metadata_by_doi(current_id)\n",
    "                else:\n",
    "                    paper_data = fetch_paper_metadata_by_openalex_id(current_id)\n",
    "\n",
    "                if not paper_data:\n",
    "                    pbar.update(1)\n",
    "                    continue\n",
    "                \n",
    "                if paper_data.get(\"title\", \"\") == \"Deleted Work\":\n",
    "                    pbar.update(1)\n",
    "                    continue\n",
    "\n",
    "                if paper_data.get(\"title\") is None:\n",
    "                    pbar.update(1)\n",
    "                    continue\n",
    "\n",
    "\n",
    "                # Mark the paper as visited\n",
    "                visited.add(current_id)\n",
    "\n",
    "                locations = paper_data.get(\"locations\", [])\n",
    "                location_info = [\n",
    "                    {\n",
    "                        \"venue_name\": loc.get(\"source\", {}).get(\"display_name\", \"Not Available\"),\n",
    "                        \"publisher\": loc.get(\"source\", {}).get(\"host_organization\", \"Not Available\"),\n",
    "                        # \"landing_page_url\": loc.get(\"landing_page_url\", \"Not Available\"),\n",
    "                        \"pdf_url\": loc.get(\"pdf_url\", \"Not Available\"),\n",
    "                        # \"version\": loc.get(\"version\", \"Not Available\"),\n",
    "                        # \"is_open_access\": loc.get(\"is_oa\", False),\n",
    "                        # \"license\": loc.get(\"license\", \"Not Available\"),\n",
    "                    }\n",
    "                    for loc in locations if loc.get('source', None) is not None\n",
    "                ]\n",
    "\n",
    "                # Structuring metadata for JSON format\n",
    "                paper_info = {\n",
    "                    \"title\": paper_data.get(\"title\", \"\"),\n",
    "                    \"doi\": paper_data.get(\"doi\", \"\").replace(\"https://doi.org/\", \"\") if paper_data.get(\"doi\") else \"\",\n",
    "                    \"openalex_id\": paper_data.get(\"id\", \"\"),\n",
    "                    \"authors\": [author['author']['display_name'] for author in paper_data.get(\"authorships\", [])],\n",
    "                    \"publication_date\": paper_data.get(\"publication_date\", \"\"),\n",
    "                    \"publish_year\": paper_data.get(\"publication_year\", \"\"),\n",
    "                    \"keywords\": [concept['display_name'] for concept in paper_data.get(\"concepts\", [])],\n",
    "                    \"abstract\": reconstruct_abstract(paper_data.get(\"abstract_inverted_index\", \"\")),\n",
    "                    \"global_link_openable\": paper_data.get(\"id\", \"\"),\n",
    "                    \"citation_count\": paper_data.get(\"cited_by_count\", 0),\n",
    "                    \"publication\": location_info,\n",
    "                    \"references\": [] ### TODO\n",
    "                }\n",
    "\n",
    "                # Process references using OpenAlex IDs\n",
    "                references = paper_data.get(\"referenced_works\", [])\n",
    "                ###### TODO\n",
    "                # if len(references) == 0:\n",
    "                #     references = paper_data.get(\"related_works\", [])\n",
    "                ######\n",
    "                for ref_id in references:\n",
    "                    if ref_id not in visited:\n",
    "                        queue.append((ref_id, depth + 1, \"openalex_id\"))  # Use OpenAlex ID for subsequent references\n",
    "                        paper_info[\"references\"].append({\"openalex_id\": ref_id}) ### TODO\n",
    "\n",
    "                result.append(paper_info)\n",
    "                pbar.update(1)  # Update progress for each paper processed\n",
    "                time.sleep(0.1)  # Delay to respect rate limits\n",
    "\n",
    "                # Save Intermediate Results for Depth >= 2:\n",
    "                if current_depth>1 and count%1000==0:\n",
    "                    filename = f'OpenAlex_Intermediate_Depth_{current_depth}.json'\n",
    "                    with open(filename, \"w\") as json_file:\n",
    "                        json.dump(result, json_file, indent=2)\n",
    "                    print('\\n')\n",
    "                    print(f'File for Depth-{current_depth}, Count-{count} : Saved')\n",
    "                    print(f'Number of Unique Papers at Depth-{current_depth}, Count-{count} (cummulative of all depths) : {len(result)}')\n",
    "                    print('\\n')\n",
    "\n",
    "        # Saving Intermediate Results for each depth\n",
    "        filename = f'OpenAlex_Intermediate_Depth_{current_depth}.json'\n",
    "        with open(filename, \"w\") as json_file:\n",
    "            json.dump(result, json_file, indent=2)\n",
    "        print('\\n')\n",
    "        print(f'File for Depth-{current_depth} : Saved')\n",
    "        print(f'Number of Unique Papers at Depth-{current_depth} (cummulative of all depths) : {len(result)}')\n",
    "        print('\\n')\n",
    "\n",
    "\n",
    "\n",
    "        # Move to the next depth level\n",
    "        current_depth += 1\n",
    "        depth_queue.clear()  # Clear depth_queue for the next depth\n",
    "\n",
    "    return result\n"
   ]
  },
  {
   "cell_type": "code",
   "execution_count": 4,
   "metadata": {},
   "outputs": [
    {
     "name": "stderr",
     "output_type": "stream",
     "text": [
      "Processing Depth 0: 100%|██████████| 25/25 [00:15<00:00,  1.60it/s]\n"
     ]
    },
    {
     "name": "stdout",
     "output_type": "stream",
     "text": [
      "\n",
      "\n",
      "File for Depth-0 : Saved\n",
      "Number of Unique Papers at Depth-0 (cummulative of all depths) : 24\n",
      "\n",
      "\n"
     ]
    },
    {
     "name": "stderr",
     "output_type": "stream",
     "text": [
      "Processing Depth 1: 100%|██████████| 943/943 [13:26<00:00,  1.17it/s]  \n"
     ]
    },
    {
     "name": "stdout",
     "output_type": "stream",
     "text": [
      "\n",
      "\n",
      "File for Depth-1 : Saved\n",
      "Number of Unique Papers at Depth-1 (cummulative of all depths) : 893\n",
      "\n",
      "\n"
     ]
    },
    {
     "name": "stderr",
     "output_type": "stream",
     "text": [
      "Processing Depth 2:   2%|▏         | 460/25455 [04:56<10:01:13,  1.44s/it]"
     ]
    },
    {
     "name": "stdout",
     "output_type": "stream",
     "text": [
      "HTTP error occurred for OpenAlex ID https://openalex.org/W1552212017: 404 Client Error: NOT FOUND for url: https://api.openalex.org/works/W1552212017\n",
      "Failed to fetch data for OpenAlex ID: https://openalex.org/W1552212017 after 10 attempts.\n"
     ]
    },
    {
     "name": "stderr",
     "output_type": "stream",
     "text": [
      "Processing Depth 2:   2%|▏         | 462/25455 [04:59<9:56:30,  1.43s/it] "
     ]
    },
    {
     "name": "stdout",
     "output_type": "stream",
     "text": [
      "HTTP error occurred for OpenAlex ID https://openalex.org/W1571468595: 404 Client Error: NOT FOUND for url: https://api.openalex.org/works/W1571468595\n",
      "Failed to fetch data for OpenAlex ID: https://openalex.org/W1571468595 after 10 attempts.\n"
     ]
    },
    {
     "name": "stderr",
     "output_type": "stream",
     "text": [
      "Processing Depth 2:   2%|▏         | 463/25455 [05:01<10:19:45,  1.49s/it]"
     ]
    },
    {
     "name": "stdout",
     "output_type": "stream",
     "text": [
      "HTTP error occurred for OpenAlex ID https://openalex.org/W1748198578: 404 Client Error: NOT FOUND for url: https://api.openalex.org/works/W1748198578\n",
      "Failed to fetch data for OpenAlex ID: https://openalex.org/W1748198578 after 10 attempts.\n"
     ]
    },
    {
     "name": "stderr",
     "output_type": "stream",
     "text": [
      "Processing Depth 2:   2%|▏         | 464/25455 [05:02<9:17:37,  1.34s/it] "
     ]
    },
    {
     "name": "stdout",
     "output_type": "stream",
     "text": [
      "HTTP error occurred for OpenAlex ID https://openalex.org/W1749396762: 404 Client Error: NOT FOUND for url: https://api.openalex.org/works/W1749396762\n",
      "Failed to fetch data for OpenAlex ID: https://openalex.org/W1749396762 after 10 attempts.\n"
     ]
    },
    {
     "name": "stderr",
     "output_type": "stream",
     "text": [
      "Processing Depth 2:   2%|▏         | 495/25455 [05:53<11:10:44,  1.61s/it]"
     ]
    },
    {
     "name": "stdout",
     "output_type": "stream",
     "text": [
      "HTTP error occurred for OpenAlex ID https://openalex.org/W2110811928: 404 Client Error: NOT FOUND for url: https://api.openalex.org/works/W2110811928\n",
      "Failed to fetch data for OpenAlex ID: https://openalex.org/W2110811928 after 10 attempts.\n"
     ]
    },
    {
     "name": "stderr",
     "output_type": "stream",
     "text": [
      "Processing Depth 2:   2%|▏         | 507/25455 [06:08<7:36:58,  1.10s/it] "
     ]
    },
    {
     "name": "stdout",
     "output_type": "stream",
     "text": [
      "HTTP error occurred for OpenAlex ID https://openalex.org/W2228430831: 404 Client Error: NOT FOUND for url: https://api.openalex.org/works/W2228430831\n",
      "Failed to fetch data for OpenAlex ID: https://openalex.org/W2228430831 after 10 attempts.\n"
     ]
    },
    {
     "name": "stderr",
     "output_type": "stream",
     "text": [
      "Processing Depth 2:   2%|▏         | 509/25455 [06:11<8:59:05,  1.30s/it]"
     ]
    },
    {
     "name": "stdout",
     "output_type": "stream",
     "text": [
      "HTTP error occurred for OpenAlex ID https://openalex.org/W2263882773: 404 Client Error: NOT FOUND for url: https://api.openalex.org/works/W2263882773\n",
      "Failed to fetch data for OpenAlex ID: https://openalex.org/W2263882773 after 10 attempts.\n"
     ]
    },
    {
     "name": "stderr",
     "output_type": "stream",
     "text": [
      "Processing Depth 2:   2%|▏         | 510/25455 [06:13<10:56:16,  1.58s/it]"
     ]
    },
    {
     "name": "stdout",
     "output_type": "stream",
     "text": [
      "HTTP error occurred for OpenAlex ID https://openalex.org/W2277501880: 404 Client Error: NOT FOUND for url: https://api.openalex.org/works/W2277501880\n",
      "Failed to fetch data for OpenAlex ID: https://openalex.org/W2277501880 after 10 attempts.\n"
     ]
    },
    {
     "name": "stderr",
     "output_type": "stream",
     "text": [
      "Processing Depth 2:   2%|▏         | 511/25455 [06:14<9:23:34,  1.36s/it] "
     ]
    },
    {
     "name": "stdout",
     "output_type": "stream",
     "text": [
      "HTTP error occurred for OpenAlex ID https://openalex.org/W2396777199: 404 Client Error: NOT FOUND for url: https://api.openalex.org/works/W2396777199\n",
      "Failed to fetch data for OpenAlex ID: https://openalex.org/W2396777199 after 10 attempts.\n"
     ]
    },
    {
     "name": "stderr",
     "output_type": "stream",
     "text": [
      "Processing Depth 2:   2%|▏         | 512/25455 [06:15<9:03:37,  1.31s/it]"
     ]
    },
    {
     "name": "stdout",
     "output_type": "stream",
     "text": [
      "HTTP error occurred for OpenAlex ID https://openalex.org/W2400207578: 404 Client Error: NOT FOUND for url: https://api.openalex.org/works/W2400207578\n",
      "Failed to fetch data for OpenAlex ID: https://openalex.org/W2400207578 after 10 attempts.\n"
     ]
    },
    {
     "name": "stderr",
     "output_type": "stream",
     "text": [
      "Processing Depth 2:   2%|▏         | 515/25455 [06:20<10:13:24,  1.48s/it]"
     ]
    },
    {
     "name": "stdout",
     "output_type": "stream",
     "text": [
      "HTTP error occurred for OpenAlex ID https://openalex.org/W2865599901: 404 Client Error: NOT FOUND for url: https://api.openalex.org/works/W2865599901\n",
      "Failed to fetch data for OpenAlex ID: https://openalex.org/W2865599901 after 10 attempts.\n"
     ]
    },
    {
     "name": "stderr",
     "output_type": "stream",
     "text": [
      "Processing Depth 2:   4%|▍         | 1000/25455 [14:26<8:47:54,  1.30s/it]"
     ]
    },
    {
     "name": "stdout",
     "output_type": "stream",
     "text": [
      "\n",
      "\n",
      "File for Depth-2, Count-1000 : Saved\n",
      "Number of Unique Papers at Depth-2, Count-1000 (cummulative of all depths) : 1531\n",
      "\n",
      "\n"
     ]
    },
    {
     "name": "stderr",
     "output_type": "stream",
     "text": [
      "Processing Depth 2:   7%|▋         | 1872/25455 [27:38<11:14:27,  1.72s/it]"
     ]
    },
    {
     "name": "stdout",
     "output_type": "stream",
     "text": [
      "HTTP error occurred for OpenAlex ID https://openalex.org/W299739017: 404 Client Error: NOT FOUND for url: https://api.openalex.org/works/W299739017\n",
      "Failed to fetch data for OpenAlex ID: https://openalex.org/W299739017 after 10 attempts.\n"
     ]
    },
    {
     "name": "stderr",
     "output_type": "stream",
     "text": [
      "Processing Depth 2:   7%|▋         | 1899/25455 [28:14<7:07:03,  1.09s/it] "
     ]
    },
    {
     "name": "stdout",
     "output_type": "stream",
     "text": [
      "HTTP error occurred for OpenAlex ID https://openalex.org/W3104873989: 404 Client Error: NOT FOUND for url: https://api.openalex.org/works/W3104873989\n",
      "Failed to fetch data for OpenAlex ID: https://openalex.org/W3104873989 after 10 attempts.\n"
     ]
    },
    {
     "name": "stderr",
     "output_type": "stream",
     "text": [
      "Processing Depth 2:   8%|▊         | 2000/25455 [30:09<7:13:08,  1.11s/it] "
     ]
    },
    {
     "name": "stdout",
     "output_type": "stream",
     "text": [
      "\n",
      "\n",
      "File for Depth-2, Count-2000 : Saved\n",
      "Number of Unique Papers at Depth-2, Count-2000 (cummulative of all depths) : 2158\n",
      "\n",
      "\n"
     ]
    },
    {
     "name": "stderr",
     "output_type": "stream",
     "text": [
      "Processing Depth 2:  12%|█▏        | 2946/25455 [44:41<7:44:22,  1.24s/it] "
     ]
    },
    {
     "name": "stdout",
     "output_type": "stream",
     "text": [
      "HTTP error occurred for OpenAlex ID https://openalex.org/W2602834906: 404 Client Error: NOT FOUND for url: https://api.openalex.org/works/W2602834906\n",
      "Failed to fetch data for OpenAlex ID: https://openalex.org/W2602834906 after 10 attempts.\n"
     ]
    },
    {
     "name": "stderr",
     "output_type": "stream",
     "text": [
      "Processing Depth 2:  12%|█▏        | 3000/25455 [45:45<11:21:14,  1.82s/it]"
     ]
    },
    {
     "name": "stdout",
     "output_type": "stream",
     "text": [
      "\n",
      "\n",
      "File for Depth-2, Count-3000 : Saved\n",
      "Number of Unique Papers at Depth-2, Count-3000 (cummulative of all depths) : 2723\n",
      "\n",
      "\n"
     ]
    },
    {
     "name": "stderr",
     "output_type": "stream",
     "text": [
      "Processing Depth 2:  14%|█▎        | 3492/25455 [52:56<5:02:18,  1.21it/s] "
     ]
    },
    {
     "name": "stdout",
     "output_type": "stream",
     "text": [
      "HTTP error occurred for OpenAlex ID https://openalex.org/W2104241941: 404 Client Error: NOT FOUND for url: https://api.openalex.org/works/W2104241941\n",
      "Failed to fetch data for OpenAlex ID: https://openalex.org/W2104241941 after 10 attempts.\n"
     ]
    },
    {
     "name": "stderr",
     "output_type": "stream",
     "text": [
      "Processing Depth 2:  15%|█▍        | 3703/25455 [56:03<2:40:58,  2.25it/s] "
     ]
    },
    {
     "name": "stdout",
     "output_type": "stream",
     "text": [
      "HTTP error occurred for OpenAlex ID https://openalex.org/W2276617118: 404 Client Error: NOT FOUND for url: https://api.openalex.org/works/W2276617118\n",
      "Failed to fetch data for OpenAlex ID: https://openalex.org/W2276617118 after 10 attempts.\n"
     ]
    },
    {
     "name": "stderr",
     "output_type": "stream",
     "text": [
      "Processing Depth 2:  16%|█▌        | 4001/25455 [59:58<2:25:30,  2.46it/s] "
     ]
    },
    {
     "name": "stdout",
     "output_type": "stream",
     "text": [
      "\n",
      "\n",
      "File for Depth-2, Count-4000 : Saved\n",
      "Number of Unique Papers at Depth-2, Count-4000 (cummulative of all depths) : 3276\n",
      "\n",
      "\n"
     ]
    },
    {
     "name": "stderr",
     "output_type": "stream",
     "text": [
      "Processing Depth 2:  24%|██▎       | 6000/25455 [1:32:23<8:12:39,  1.52s/it] "
     ]
    },
    {
     "name": "stdout",
     "output_type": "stream",
     "text": [
      "\n",
      "\n",
      "File for Depth-2, Count-6000 : Saved\n",
      "Number of Unique Papers at Depth-2, Count-6000 (cummulative of all depths) : 4626\n",
      "\n",
      "\n"
     ]
    },
    {
     "name": "stderr",
     "output_type": "stream",
     "text": [
      "Processing Depth 2:  28%|██▊       | 7001/25455 [1:55:05<3:57:11,  1.30it/s] "
     ]
    },
    {
     "name": "stdout",
     "output_type": "stream",
     "text": [
      "\n",
      "\n",
      "File for Depth-2, Count-7000 : Saved\n",
      "Number of Unique Papers at Depth-2, Count-7000 (cummulative of all depths) : 5434\n",
      "\n",
      "\n"
     ]
    },
    {
     "name": "stderr",
     "output_type": "stream",
     "text": [
      "Processing Depth 2:  31%|███▏      | 8001/25455 [2:12:58<2:35:33,  1.87it/s] "
     ]
    },
    {
     "name": "stdout",
     "output_type": "stream",
     "text": [
      "\n",
      "\n",
      "File for Depth-2, Count-8000 : Saved\n",
      "Number of Unique Papers at Depth-2, Count-8000 (cummulative of all depths) : 6069\n",
      "\n",
      "\n"
     ]
    },
    {
     "name": "stderr",
     "output_type": "stream",
     "text": [
      "Processing Depth 2:  32%|███▏      | 8230/25455 [2:17:08<6:53:53,  1.44s/it] "
     ]
    },
    {
     "name": "stdout",
     "output_type": "stream",
     "text": [
      "HTTP error occurred for OpenAlex ID https://openalex.org/W1877304079: 404 Client Error: NOT FOUND for url: https://api.openalex.org/works/W1877304079\n",
      "Failed to fetch data for OpenAlex ID: https://openalex.org/W1877304079 after 10 attempts.\n"
     ]
    },
    {
     "name": "stderr",
     "output_type": "stream",
     "text": [
      "Processing Depth 2:  33%|███▎      | 8358/25455 [2:19:19<4:07:40,  1.15it/s] "
     ]
    },
    {
     "name": "stdout",
     "output_type": "stream",
     "text": [
      "HTTP error occurred for OpenAlex ID https://openalex.org/W180954165: 404 Client Error: NOT FOUND for url: https://api.openalex.org/works/W180954165\n",
      "Failed to fetch data for OpenAlex ID: https://openalex.org/W180954165 after 10 attempts.\n"
     ]
    },
    {
     "name": "stderr",
     "output_type": "stream",
     "text": [
      "Processing Depth 2:  33%|███▎      | 8359/25455 [2:19:20<4:10:20,  1.14it/s]"
     ]
    },
    {
     "name": "stdout",
     "output_type": "stream",
     "text": [
      "HTTP error occurred for OpenAlex ID https://openalex.org/W1834641937: 404 Client Error: NOT FOUND for url: https://api.openalex.org/works/W1834641937\n",
      "Failed to fetch data for OpenAlex ID: https://openalex.org/W1834641937 after 10 attempts.\n"
     ]
    },
    {
     "name": "stderr",
     "output_type": "stream",
     "text": [
      "Processing Depth 2:  33%|███▎      | 8360/25455 [2:19:22<4:52:01,  1.02s/it]"
     ]
    },
    {
     "name": "stdout",
     "output_type": "stream",
     "text": [
      "HTTP error occurred for OpenAlex ID https://openalex.org/W1925428372: 404 Client Error: NOT FOUND for url: https://api.openalex.org/works/W1925428372\n",
      "Failed to fetch data for OpenAlex ID: https://openalex.org/W1925428372 after 10 attempts.\n"
     ]
    },
    {
     "name": "stderr",
     "output_type": "stream",
     "text": [
      "Processing Depth 2:  33%|███▎      | 8383/25455 [2:20:01<10:23:36,  2.19s/it]"
     ]
    },
    {
     "name": "stdout",
     "output_type": "stream",
     "text": [
      "HTTP error occurred for OpenAlex ID https://openalex.org/W2211040673: 404 Client Error: NOT FOUND for url: https://api.openalex.org/works/W2211040673\n",
      "Failed to fetch data for OpenAlex ID: https://openalex.org/W2211040673 after 10 attempts.\n"
     ]
    },
    {
     "name": "stderr",
     "output_type": "stream",
     "text": [
      "Processing Depth 2:  33%|███▎      | 8396/25455 [2:20:20<7:15:10,  1.53s/it] "
     ]
    },
    {
     "name": "stdout",
     "output_type": "stream",
     "text": [
      "HTTP error occurred for OpenAlex ID https://openalex.org/W969467816: 404 Client Error: NOT FOUND for url: https://api.openalex.org/works/W969467816\n",
      "Failed to fetch data for OpenAlex ID: https://openalex.org/W969467816 after 10 attempts.\n"
     ]
    },
    {
     "name": "stderr",
     "output_type": "stream",
     "text": [
      "Processing Depth 2:  35%|███▍      | 8890/25455 [2:29:01<4:21:59,  1.05it/s] "
     ]
    },
    {
     "name": "stdout",
     "output_type": "stream",
     "text": [
      "Timeout while fetching OpenAlex ID https://openalex.org/W2143987987. Attempt 1 of 10.\n"
     ]
    },
    {
     "name": "stderr",
     "output_type": "stream",
     "text": [
      "Processing Depth 2:  35%|███▌      | 8951/25455 [2:29:51<1:56:34,  2.36it/s] "
     ]
    },
    {
     "name": "stdout",
     "output_type": "stream",
     "text": [
      "Timeout while fetching OpenAlex ID https://openalex.org/W2172130635. Attempt 1 of 10.\n"
     ]
    },
    {
     "name": "stderr",
     "output_type": "stream",
     "text": [
      "Processing Depth 2:  35%|███▌      | 8980/25455 [2:30:16<1:15:20,  3.64it/s] "
     ]
    },
    {
     "name": "stdout",
     "output_type": "stream",
     "text": [
      "Timeout while fetching OpenAlex ID https://openalex.org/W2395342389. Attempt 1 of 10.\n"
     ]
    },
    {
     "name": "stderr",
     "output_type": "stream",
     "text": [
      "Processing Depth 2:  35%|███▌      | 9001/25455 [2:30:56<3:42:06,  1.23it/s] "
     ]
    },
    {
     "name": "stdout",
     "output_type": "stream",
     "text": [
      "\n",
      "\n",
      "File for Depth-2, Count-9000 : Saved\n",
      "Number of Unique Papers at Depth-2, Count-9000 (cummulative of all depths) : 6688\n",
      "\n",
      "\n"
     ]
    },
    {
     "name": "stderr",
     "output_type": "stream",
     "text": [
      "Processing Depth 2:  35%|███▌      | 9016/25455 [2:31:14<11:27:33,  2.51s/it]"
     ]
    },
    {
     "name": "stdout",
     "output_type": "stream",
     "text": [
      "HTTP error occurred for OpenAlex ID https://openalex.org/W299739017: 404 Client Error: NOT FOUND for url: https://api.openalex.org/works/W299739017\n",
      "Failed to fetch data for OpenAlex ID: https://openalex.org/W299739017 after 10 attempts.\n"
     ]
    },
    {
     "name": "stderr",
     "output_type": "stream",
     "text": [
      "Processing Depth 2:  37%|███▋      | 9338/25455 [2:37:01<7:11:51,  1.61s/it] "
     ]
    },
    {
     "name": "stdout",
     "output_type": "stream",
     "text": [
      "HTTP error occurred for OpenAlex ID https://openalex.org/W1504624193: 404 Client Error: NOT FOUND for url: https://api.openalex.org/works/W1504624193\n",
      "Failed to fetch data for OpenAlex ID: https://openalex.org/W1504624193 after 10 attempts.\n"
     ]
    },
    {
     "name": "stderr",
     "output_type": "stream",
     "text": [
      "Processing Depth 2:  37%|███▋      | 9339/25455 [2:37:02<6:33:25,  1.46s/it]"
     ]
    },
    {
     "name": "stdout",
     "output_type": "stream",
     "text": [
      "HTTP error occurred for OpenAlex ID https://openalex.org/W1523283629: 404 Client Error: NOT FOUND for url: https://api.openalex.org/works/W1523283629\n",
      "Failed to fetch data for OpenAlex ID: https://openalex.org/W1523283629 after 10 attempts.\n"
     ]
    },
    {
     "name": "stderr",
     "output_type": "stream",
     "text": [
      "Processing Depth 2:  37%|███▋      | 9340/25455 [2:37:03<6:31:58,  1.46s/it]"
     ]
    },
    {
     "name": "stdout",
     "output_type": "stream",
     "text": [
      "HTTP error occurred for OpenAlex ID https://openalex.org/W1526721159: 404 Client Error: NOT FOUND for url: https://api.openalex.org/works/W1526721159\n",
      "Failed to fetch data for OpenAlex ID: https://openalex.org/W1526721159 after 10 attempts.\n"
     ]
    },
    {
     "name": "stderr",
     "output_type": "stream",
     "text": [
      "Processing Depth 2:  37%|███▋      | 9342/25455 [2:37:06<6:13:56,  1.39s/it]"
     ]
    },
    {
     "name": "stdout",
     "output_type": "stream",
     "text": [
      "HTTP error occurred for OpenAlex ID https://openalex.org/W1605324420: 404 Client Error: NOT FOUND for url: https://api.openalex.org/works/W1605324420\n",
      "Failed to fetch data for OpenAlex ID: https://openalex.org/W1605324420 after 10 attempts.\n"
     ]
    },
    {
     "name": "stderr",
     "output_type": "stream",
     "text": [
      "Processing Depth 2:  37%|███▋      | 9349/25455 [2:37:08<2:21:39,  1.89it/s]"
     ]
    },
    {
     "name": "stdout",
     "output_type": "stream",
     "text": [
      "HTTP error occurred for OpenAlex ID https://openalex.org/W1889821586: 404 Client Error: NOT FOUND for url: https://api.openalex.org/works/W1889821586\n",
      "Failed to fetch data for OpenAlex ID: https://openalex.org/W1889821586 after 10 attempts.\n"
     ]
    },
    {
     "name": "stderr",
     "output_type": "stream",
     "text": [
      "Processing Depth 2:  37%|███▋      | 9350/25455 [2:37:09<2:33:25,  1.75it/s]"
     ]
    },
    {
     "name": "stdout",
     "output_type": "stream",
     "text": [
      "HTTP error occurred for OpenAlex ID https://openalex.org/W1904239789: 404 Client Error: NOT FOUND for url: https://api.openalex.org/works/W1904239789\n",
      "Failed to fetch data for OpenAlex ID: https://openalex.org/W1904239789 after 10 attempts.\n"
     ]
    },
    {
     "name": "stderr",
     "output_type": "stream",
     "text": [
      "Processing Depth 2:  37%|███▋      | 9351/25455 [2:37:10<3:25:45,  1.30it/s]"
     ]
    },
    {
     "name": "stdout",
     "output_type": "stream",
     "text": [
      "HTTP error occurred for OpenAlex ID https://openalex.org/W1926654825: 404 Client Error: NOT FOUND for url: https://api.openalex.org/works/W1926654825\n",
      "Failed to fetch data for OpenAlex ID: https://openalex.org/W1926654825 after 10 attempts.\n"
     ]
    },
    {
     "name": "stderr",
     "output_type": "stream",
     "text": [
      "Processing Depth 2:  37%|███▋      | 9352/25455 [2:37:12<4:35:38,  1.03s/it]"
     ]
    },
    {
     "name": "stdout",
     "output_type": "stream",
     "text": [
      "HTTP error occurred for OpenAlex ID https://openalex.org/W1934248716: 404 Client Error: NOT FOUND for url: https://api.openalex.org/works/W1934248716\n",
      "Failed to fetch data for OpenAlex ID: https://openalex.org/W1934248716 after 10 attempts.\n"
     ]
    },
    {
     "name": "stderr",
     "output_type": "stream",
     "text": [
      "Processing Depth 2:  37%|███▋      | 9353/25455 [2:37:14<5:04:31,  1.13s/it]"
     ]
    },
    {
     "name": "stdout",
     "output_type": "stream",
     "text": [
      "HTTP error occurred for OpenAlex ID https://openalex.org/W1940316177: 404 Client Error: NOT FOUND for url: https://api.openalex.org/works/W1940316177\n",
      "Failed to fetch data for OpenAlex ID: https://openalex.org/W1940316177 after 10 attempts.\n"
     ]
    },
    {
     "name": "stderr",
     "output_type": "stream",
     "text": [
      "Processing Depth 2:  37%|███▋      | 9354/25455 [2:37:15<4:45:28,  1.06s/it]"
     ]
    },
    {
     "name": "stdout",
     "output_type": "stream",
     "text": [
      "HTTP error occurred for OpenAlex ID https://openalex.org/W1942103033: 404 Client Error: NOT FOUND for url: https://api.openalex.org/works/W1942103033\n",
      "Failed to fetch data for OpenAlex ID: https://openalex.org/W1942103033 after 10 attempts.\n"
     ]
    },
    {
     "name": "stderr",
     "output_type": "stream",
     "text": [
      "Processing Depth 2:  37%|███▋      | 9355/25455 [2:37:18<6:50:30,  1.53s/it]"
     ]
    },
    {
     "name": "stdout",
     "output_type": "stream",
     "text": [
      "HTTP error occurred for OpenAlex ID https://openalex.org/W1946883064: 404 Client Error: NOT FOUND for url: https://api.openalex.org/works/W1946883064\n",
      "Failed to fetch data for OpenAlex ID: https://openalex.org/W1946883064 after 10 attempts.\n"
     ]
    },
    {
     "name": "stderr",
     "output_type": "stream",
     "text": [
      "Processing Depth 2:  37%|███▋      | 9356/25455 [2:37:19<6:34:01,  1.47s/it]"
     ]
    },
    {
     "name": "stdout",
     "output_type": "stream",
     "text": [
      "HTTP error occurred for OpenAlex ID https://openalex.org/W1950239041: 404 Client Error: NOT FOUND for url: https://api.openalex.org/works/W1950239041\n",
      "Failed to fetch data for OpenAlex ID: https://openalex.org/W1950239041 after 10 attempts.\n"
     ]
    },
    {
     "name": "stderr",
     "output_type": "stream",
     "text": [
      "Processing Depth 2:  37%|███▋      | 9390/25455 [2:37:55<3:18:52,  1.35it/s]"
     ]
    },
    {
     "name": "stdout",
     "output_type": "stream",
     "text": [
      "HTTP error occurred for OpenAlex ID https://openalex.org/W2098972751: 404 Client Error: NOT FOUND for url: https://api.openalex.org/works/W2098972751\n",
      "Failed to fetch data for OpenAlex ID: https://openalex.org/W2098972751 after 10 attempts.\n"
     ]
    },
    {
     "name": "stderr",
     "output_type": "stream",
     "text": [
      "Processing Depth 2:  37%|███▋      | 9397/25455 [2:38:01<3:56:45,  1.13it/s]"
     ]
    },
    {
     "name": "stdout",
     "output_type": "stream",
     "text": [
      "HTTP error occurred for OpenAlex ID https://openalex.org/W2120397321: 404 Client Error: NOT FOUND for url: https://api.openalex.org/works/W2120397321\n",
      "Failed to fetch data for OpenAlex ID: https://openalex.org/W2120397321 after 10 attempts.\n"
     ]
    },
    {
     "name": "stderr",
     "output_type": "stream",
     "text": [
      "Processing Depth 2:  37%|███▋      | 9428/25455 [2:38:31<5:18:37,  1.19s/it]"
     ]
    },
    {
     "name": "stdout",
     "output_type": "stream",
     "text": [
      "HTTP error occurred for OpenAlex ID https://openalex.org/W2169249345: 404 Client Error: NOT FOUND for url: https://api.openalex.org/works/W2169249345\n",
      "Failed to fetch data for OpenAlex ID: https://openalex.org/W2169249345 after 10 attempts.\n"
     ]
    },
    {
     "name": "stderr",
     "output_type": "stream",
     "text": [
      "Processing Depth 2:  37%|███▋      | 9432/25455 [2:38:44<13:10:38,  2.96s/it]"
     ]
    },
    {
     "name": "stdout",
     "output_type": "stream",
     "text": [
      "HTTP error occurred for OpenAlex ID https://openalex.org/W2200188567: 404 Client Error: NOT FOUND for url: https://api.openalex.org/works/W2200188567\n",
      "Failed to fetch data for OpenAlex ID: https://openalex.org/W2200188567 after 10 attempts.\n"
     ]
    },
    {
     "name": "stderr",
     "output_type": "stream",
     "text": [
      "Processing Depth 2:  37%|███▋      | 9435/25455 [2:38:46<7:23:13,  1.66s/it] "
     ]
    },
    {
     "name": "stdout",
     "output_type": "stream",
     "text": [
      "HTTP error occurred for OpenAlex ID https://openalex.org/W2260259679: 404 Client Error: NOT FOUND for url: https://api.openalex.org/works/W2260259679\n",
      "Failed to fetch data for OpenAlex ID: https://openalex.org/W2260259679 after 10 attempts.\n"
     ]
    },
    {
     "name": "stderr",
     "output_type": "stream",
     "text": [
      "Processing Depth 2:  37%|███▋      | 9436/25455 [2:38:48<7:06:17,  1.60s/it]"
     ]
    },
    {
     "name": "stdout",
     "output_type": "stream",
     "text": [
      "HTTP error occurred for OpenAlex ID https://openalex.org/W2283648668: 404 Client Error: NOT FOUND for url: https://api.openalex.org/works/W2283648668\n",
      "Failed to fetch data for OpenAlex ID: https://openalex.org/W2283648668 after 10 attempts.\n"
     ]
    },
    {
     "name": "stderr",
     "output_type": "stream",
     "text": [
      "Processing Depth 2:  37%|███▋      | 9437/25455 [2:38:49<6:41:09,  1.50s/it]"
     ]
    },
    {
     "name": "stdout",
     "output_type": "stream",
     "text": [
      "HTTP error occurred for OpenAlex ID https://openalex.org/W2285546082: 404 Client Error: NOT FOUND for url: https://api.openalex.org/works/W2285546082\n",
      "Failed to fetch data for OpenAlex ID: https://openalex.org/W2285546082 after 10 attempts.\n"
     ]
    },
    {
     "name": "stderr",
     "output_type": "stream",
     "text": [
      "Processing Depth 2:  37%|███▋      | 9438/25455 [2:38:50<6:35:24,  1.48s/it]"
     ]
    },
    {
     "name": "stdout",
     "output_type": "stream",
     "text": [
      "HTTP error occurred for OpenAlex ID https://openalex.org/W2285993492: 404 Client Error: NOT FOUND for url: https://api.openalex.org/works/W2285993492\n",
      "Failed to fetch data for OpenAlex ID: https://openalex.org/W2285993492 after 10 attempts.\n"
     ]
    },
    {
     "name": "stderr",
     "output_type": "stream",
     "text": [
      "Processing Depth 2:  37%|███▋      | 9439/25455 [2:38:52<6:47:23,  1.53s/it]"
     ]
    },
    {
     "name": "stdout",
     "output_type": "stream",
     "text": [
      "HTTP error occurred for OpenAlex ID https://openalex.org/W2287348815: 404 Client Error: NOT FOUND for url: https://api.openalex.org/works/W2287348815\n",
      "Failed to fetch data for OpenAlex ID: https://openalex.org/W2287348815 after 10 attempts.\n"
     ]
    },
    {
     "name": "stderr",
     "output_type": "stream",
     "text": [
      "Processing Depth 2:  37%|███▋      | 9440/25455 [2:38:53<6:16:29,  1.41s/it]"
     ]
    },
    {
     "name": "stdout",
     "output_type": "stream",
     "text": [
      "HTTP error occurred for OpenAlex ID https://openalex.org/W2302867327: 404 Client Error: NOT FOUND for url: https://api.openalex.org/works/W2302867327\n",
      "Failed to fetch data for OpenAlex ID: https://openalex.org/W2302867327 after 10 attempts.\n"
     ]
    },
    {
     "name": "stderr",
     "output_type": "stream",
     "text": [
      "Processing Depth 2:  37%|███▋      | 9441/25455 [2:38:54<5:35:04,  1.26s/it]"
     ]
    },
    {
     "name": "stdout",
     "output_type": "stream",
     "text": [
      "HTTP error occurred for OpenAlex ID https://openalex.org/W2306498617: 404 Client Error: NOT FOUND for url: https://api.openalex.org/works/W2306498617\n",
      "Failed to fetch data for OpenAlex ID: https://openalex.org/W2306498617 after 10 attempts.\n"
     ]
    },
    {
     "name": "stderr",
     "output_type": "stream",
     "text": [
      "Processing Depth 2:  37%|███▋      | 9442/25455 [2:38:55<5:19:54,  1.20s/it]"
     ]
    },
    {
     "name": "stdout",
     "output_type": "stream",
     "text": [
      "HTTP error occurred for OpenAlex ID https://openalex.org/W2307970950: 404 Client Error: NOT FOUND for url: https://api.openalex.org/works/W2307970950\n",
      "Failed to fetch data for OpenAlex ID: https://openalex.org/W2307970950 after 10 attempts.\n"
     ]
    },
    {
     "name": "stderr",
     "output_type": "stream",
     "text": [
      "Processing Depth 2:  37%|███▋      | 9445/25455 [2:39:00<6:24:02,  1.44s/it]"
     ]
    },
    {
     "name": "stdout",
     "output_type": "stream",
     "text": [
      "HTTP error occurred for OpenAlex ID https://openalex.org/W2515694465: 404 Client Error: NOT FOUND for url: https://api.openalex.org/works/W2515694465\n",
      "Failed to fetch data for OpenAlex ID: https://openalex.org/W2515694465 after 10 attempts.\n"
     ]
    },
    {
     "name": "stderr",
     "output_type": "stream",
     "text": [
      "Processing Depth 2:  37%|███▋      | 9447/25455 [2:39:01<4:48:47,  1.08s/it]"
     ]
    },
    {
     "name": "stdout",
     "output_type": "stream",
     "text": [
      "HTTP error occurred for OpenAlex ID https://openalex.org/W2819672283: 404 Client Error: NOT FOUND for url: https://api.openalex.org/works/W2819672283\n",
      "Failed to fetch data for OpenAlex ID: https://openalex.org/W2819672283 after 10 attempts.\n"
     ]
    },
    {
     "name": "stderr",
     "output_type": "stream",
     "text": [
      "Processing Depth 2:  37%|███▋      | 9451/25455 [2:39:12<8:09:14,  1.83s/it] "
     ]
    },
    {
     "name": "stdout",
     "output_type": "stream",
     "text": [
      "HTTP error occurred for OpenAlex ID https://openalex.org/W308626739: 404 Client Error: NOT FOUND for url: https://api.openalex.org/works/W308626739\n",
      "Failed to fetch data for OpenAlex ID: https://openalex.org/W308626739 after 10 attempts.\n"
     ]
    },
    {
     "name": "stderr",
     "output_type": "stream",
     "text": [
      "Processing Depth 2:  37%|███▋      | 9454/25455 [2:39:17<7:54:08,  1.78s/it]"
     ]
    },
    {
     "name": "stdout",
     "output_type": "stream",
     "text": [
      "HTTP error occurred for OpenAlex ID https://openalex.org/W3141349489: 404 Client Error: NOT FOUND for url: https://api.openalex.org/works/W3141349489\n",
      "Failed to fetch data for OpenAlex ID: https://openalex.org/W3141349489 after 10 attempts.\n"
     ]
    },
    {
     "name": "stderr",
     "output_type": "stream",
     "text": [
      "Processing Depth 2:  37%|███▋      | 9456/25455 [2:39:19<6:16:10,  1.41s/it]"
     ]
    },
    {
     "name": "stdout",
     "output_type": "stream",
     "text": [
      "HTTP error occurred for OpenAlex ID https://openalex.org/W324131177: 404 Client Error: NOT FOUND for url: https://api.openalex.org/works/W324131177\n",
      "Failed to fetch data for OpenAlex ID: https://openalex.org/W324131177 after 10 attempts.\n"
     ]
    },
    {
     "name": "stderr",
     "output_type": "stream",
     "text": [
      "Processing Depth 2:  40%|████      | 10255/25455 [2:49:43<3:14:51,  1.30it/s]"
     ]
    },
    {
     "name": "stdout",
     "output_type": "stream",
     "text": [
      "HTTP error occurred for OpenAlex ID https://openalex.org/W2417356443: 404 Client Error: NOT FOUND for url: https://api.openalex.org/works/W2417356443\n",
      "Failed to fetch data for OpenAlex ID: https://openalex.org/W2417356443 after 10 attempts.\n"
     ]
    },
    {
     "name": "stderr",
     "output_type": "stream",
     "text": [
      "Processing Depth 2:  42%|████▏     | 10680/25455 [2:54:58<4:16:08,  1.04s/it] "
     ]
    },
    {
     "name": "stdout",
     "output_type": "stream",
     "text": [
      "Timeout while fetching OpenAlex ID https://openalex.org/W2538371562. Attempt 1 of 10.\n"
     ]
    },
    {
     "name": "stderr",
     "output_type": "stream",
     "text": [
      "Processing Depth 2:  43%|████▎     | 11001/25455 [2:58:53<3:08:19,  1.28it/s] "
     ]
    },
    {
     "name": "stdout",
     "output_type": "stream",
     "text": [
      "\n",
      "\n",
      "File for Depth-2, Count-11000 : Saved\n",
      "Number of Unique Papers at Depth-2, Count-11000 (cummulative of all depths) : 7688\n",
      "\n",
      "\n"
     ]
    },
    {
     "name": "stderr",
     "output_type": "stream",
     "text": [
      "Processing Depth 2:  43%|████▎     | 11007/25455 [2:58:55<1:39:12,  2.43it/s]"
     ]
    },
    {
     "name": "stdout",
     "output_type": "stream",
     "text": [
      "Timeout while fetching OpenAlex ID https://openalex.org/W2103194807. Attempt 1 of 10.\n"
     ]
    },
    {
     "name": "stderr",
     "output_type": "stream",
     "text": [
      "Processing Depth 2:  43%|████▎     | 11060/25455 [2:59:25<1:49:58,  2.18it/s] "
     ]
    },
    {
     "name": "stdout",
     "output_type": "stream",
     "text": [
      "Timeout while fetching OpenAlex ID https://openalex.org/W2005646316. Attempt 1 of 10.\n"
     ]
    },
    {
     "name": "stderr",
     "output_type": "stream",
     "text": [
      "Processing Depth 2:  51%|█████     | 13000/25455 [3:21:30<2:31:29,  1.37it/s] "
     ]
    },
    {
     "name": "stdout",
     "output_type": "stream",
     "text": [
      "\n",
      "\n",
      "File for Depth-2, Count-13000 : Saved\n",
      "Number of Unique Papers at Depth-2, Count-13000 (cummulative of all depths) : 8544\n",
      "\n",
      "\n"
     ]
    },
    {
     "name": "stderr",
     "output_type": "stream",
     "text": [
      "Processing Depth 2:  59%|█████▉    | 15022/25455 [3:44:41<2:23:17,  1.21it/s]"
     ]
    },
    {
     "name": "stdout",
     "output_type": "stream",
     "text": [
      "HTTP error occurred for OpenAlex ID https://openalex.org/W2963768805: 404 Client Error: NOT FOUND for url: https://api.openalex.org/works/W2963768805\n",
      "Failed to fetch data for OpenAlex ID: https://openalex.org/W2963768805 after 10 attempts.\n"
     ]
    },
    {
     "name": "stderr",
     "output_type": "stream",
     "text": [
      "Processing Depth 2:  61%|██████▏   | 15620/25455 [3:53:21<2:07:57,  1.28it/s]"
     ]
    },
    {
     "name": "stdout",
     "output_type": "stream",
     "text": [
      "HTTP error occurred for OpenAlex ID https://openalex.org/W2962776038: 404 Client Error: NOT FOUND for url: https://api.openalex.org/works/W2962776038\n",
      "Failed to fetch data for OpenAlex ID: https://openalex.org/W2962776038 after 10 attempts.\n"
     ]
    },
    {
     "name": "stderr",
     "output_type": "stream",
     "text": [
      "Processing Depth 2:  63%|██████▎   | 16143/25455 [3:59:49<2:38:42,  1.02s/it]"
     ]
    },
    {
     "name": "stdout",
     "output_type": "stream",
     "text": [
      "HTTP error occurred for OpenAlex ID https://openalex.org/W1510436408: 404 Client Error: NOT FOUND for url: https://api.openalex.org/works/W1510436408\n",
      "Failed to fetch data for OpenAlex ID: https://openalex.org/W1510436408 after 10 attempts.\n"
     ]
    },
    {
     "name": "stderr",
     "output_type": "stream",
     "text": [
      "Processing Depth 2:  67%|██████▋   | 17000/25455 [4:11:46<3:34:24,  1.52s/it]"
     ]
    },
    {
     "name": "stdout",
     "output_type": "stream",
     "text": [
      "\n",
      "\n",
      "File for Depth-2, Count-17000 : Saved\n",
      "Number of Unique Papers at Depth-2, Count-17000 (cummulative of all depths) : 10679\n",
      "\n",
      "\n"
     ]
    },
    {
     "name": "stderr",
     "output_type": "stream",
     "text": [
      "Processing Depth 2:  68%|██████▊   | 17358/25455 [4:21:11<4:19:37,  1.92s/it]"
     ]
    },
    {
     "name": "stdout",
     "output_type": "stream",
     "text": [
      "HTTP error occurred for OpenAlex ID https://openalex.org/W2011495938: 404 Client Error: NOT FOUND for url: https://api.openalex.org/works/W2011495938\n",
      "Failed to fetch data for OpenAlex ID: https://openalex.org/W2011495938 after 10 attempts.\n"
     ]
    },
    {
     "name": "stderr",
     "output_type": "stream",
     "text": [
      "Processing Depth 2:  71%|███████   | 18000/25455 [4:36:03<2:28:14,  1.19s/it]"
     ]
    },
    {
     "name": "stdout",
     "output_type": "stream",
     "text": [
      "\n",
      "\n",
      "File for Depth-2, Count-18000 : Saved\n",
      "Number of Unique Papers at Depth-2, Count-18000 (cummulative of all depths) : 11587\n",
      "\n",
      "\n"
     ]
    },
    {
     "name": "stderr",
     "output_type": "stream",
     "text": [
      "Processing Depth 2:  72%|███████▏  | 18323/25455 [4:43:23<2:47:10,  1.41s/it]"
     ]
    },
    {
     "name": "stdout",
     "output_type": "stream",
     "text": [
      "HTTP error occurred for OpenAlex ID https://openalex.org/W2011495938: 404 Client Error: NOT FOUND for url: https://api.openalex.org/works/W2011495938\n",
      "Failed to fetch data for OpenAlex ID: https://openalex.org/W2011495938 after 10 attempts.\n"
     ]
    },
    {
     "name": "stderr",
     "output_type": "stream",
     "text": [
      "Processing Depth 2:  74%|███████▍  | 18905/25455 [4:55:04<1:31:22,  1.19it/s]"
     ]
    },
    {
     "name": "stdout",
     "output_type": "stream",
     "text": [
      "HTTP error occurred for OpenAlex ID https://openalex.org/W2011495938: 404 Client Error: NOT FOUND for url: https://api.openalex.org/works/W2011495938\n",
      "Failed to fetch data for OpenAlex ID: https://openalex.org/W2011495938 after 10 attempts.\n"
     ]
    },
    {
     "name": "stderr",
     "output_type": "stream",
     "text": [
      "Processing Depth 2:  75%|███████▍  | 18967/25455 [4:56:00<50:28,  2.14it/s]  "
     ]
    },
    {
     "name": "stdout",
     "output_type": "stream",
     "text": [
      "HTTP error occurred for OpenAlex ID https://openalex.org/W2011495938: 404 Client Error: NOT FOUND for url: https://api.openalex.org/works/W2011495938\n",
      "Failed to fetch data for OpenAlex ID: https://openalex.org/W2011495938 after 10 attempts.\n"
     ]
    },
    {
     "name": "stderr",
     "output_type": "stream",
     "text": [
      "Processing Depth 2:  75%|███████▍  | 19001/25455 [4:56:47<2:26:26,  1.36s/it]"
     ]
    },
    {
     "name": "stdout",
     "output_type": "stream",
     "text": [
      "\n",
      "\n",
      "File for Depth-2, Count-19000 : Saved\n",
      "Number of Unique Papers at Depth-2, Count-19000 (cummulative of all depths) : 12348\n",
      "\n",
      "\n"
     ]
    },
    {
     "name": "stderr",
     "output_type": "stream",
     "text": [
      "Processing Depth 2:  76%|███████▋  | 19457/25455 [5:04:59<1:41:20,  1.01s/it]"
     ]
    },
    {
     "name": "stdout",
     "output_type": "stream",
     "text": [
      "Timeout while fetching OpenAlex ID https://openalex.org/W2121651202. Attempt 1 of 10.\n"
     ]
    },
    {
     "name": "stderr",
     "output_type": "stream",
     "text": [
      "Processing Depth 2:  77%|███████▋  | 19512/25455 [5:05:46<41:56,  2.36it/s]  "
     ]
    },
    {
     "name": "stdout",
     "output_type": "stream",
     "text": [
      "Timeout while fetching OpenAlex ID https://openalex.org/W2125677968. Attempt 1 of 10.\n"
     ]
    },
    {
     "name": "stderr",
     "output_type": "stream",
     "text": [
      "Processing Depth 2:  77%|███████▋  | 19531/25455 [5:06:07<1:13:40,  1.34it/s]"
     ]
    },
    {
     "name": "stdout",
     "output_type": "stream",
     "text": [
      "Timeout while fetching OpenAlex ID https://openalex.org/W2964644761. Attempt 1 of 10.\n"
     ]
    },
    {
     "name": "stderr",
     "output_type": "stream",
     "text": [
      "Processing Depth 2:  77%|███████▋  | 19566/25455 [5:06:28<09:44, 10.08it/s]  "
     ]
    },
    {
     "name": "stdout",
     "output_type": "stream",
     "text": [
      "Timeout while fetching OpenAlex ID https://openalex.org/W2902663357. Attempt 1 of 10.\n"
     ]
    },
    {
     "name": "stderr",
     "output_type": "stream",
     "text": [
      "Processing Depth 2:  77%|███████▋  | 19567/25455 [5:06:43<09:43, 10.08it/s]"
     ]
    },
    {
     "name": "stdout",
     "output_type": "stream",
     "text": [
      "Timeout while fetching OpenAlex ID https://openalex.org/W2902663357. Attempt 2 of 10.\n"
     ]
    },
    {
     "name": "stderr",
     "output_type": "stream",
     "text": [
      "Processing Depth 2:  77%|███████▋  | 19580/25455 [5:06:58<1:18:44,  1.24it/s]"
     ]
    },
    {
     "name": "stdout",
     "output_type": "stream",
     "text": [
      "Timeout while fetching OpenAlex ID https://openalex.org/W1919814215. Attempt 1 of 10.\n"
     ]
    },
    {
     "name": "stderr",
     "output_type": "stream",
     "text": [
      "Processing Depth 2:  77%|███████▋  | 19597/25455 [5:07:27<1:39:43,  1.02s/it]"
     ]
    },
    {
     "name": "stdout",
     "output_type": "stream",
     "text": [
      "Timeout while fetching OpenAlex ID https://openalex.org/W2053574509. Attempt 1 of 10.\n"
     ]
    },
    {
     "name": "stderr",
     "output_type": "stream",
     "text": [
      "Processing Depth 2:  77%|███████▋  | 19606/25455 [5:07:46<1:20:50,  1.21it/s]"
     ]
    },
    {
     "name": "stdout",
     "output_type": "stream",
     "text": [
      "Timeout while fetching OpenAlex ID https://openalex.org/W2126534542. Attempt 1 of 10.\n"
     ]
    },
    {
     "name": "stderr",
     "output_type": "stream",
     "text": [
      "Processing Depth 2:  77%|███████▋  | 19610/25455 [5:08:00<3:16:27,  2.02s/it]"
     ]
    },
    {
     "name": "stdout",
     "output_type": "stream",
     "text": [
      "Timeout while fetching OpenAlex ID https://openalex.org/W2131934935. Attempt 1 of 10.\n"
     ]
    },
    {
     "name": "stderr",
     "output_type": "stream",
     "text": [
      "Processing Depth 2:  77%|███████▋  | 19624/25455 [5:08:22<1:23:12,  1.17it/s]"
     ]
    },
    {
     "name": "stdout",
     "output_type": "stream",
     "text": [
      "Timeout while fetching OpenAlex ID https://openalex.org/W2406492630. Attempt 1 of 10.\n"
     ]
    },
    {
     "name": "stderr",
     "output_type": "stream",
     "text": [
      "Processing Depth 2:  77%|███████▋  | 19635/25455 [5:08:41<1:25:17,  1.14it/s]"
     ]
    },
    {
     "name": "stdout",
     "output_type": "stream",
     "text": [
      "Timeout while fetching OpenAlex ID https://openalex.org/W2779361938. Attempt 1 of 10.\n"
     ]
    },
    {
     "name": "stderr",
     "output_type": "stream",
     "text": [
      "Processing Depth 2:  77%|███████▋  | 19679/25455 [5:09:26<1:09:19,  1.39it/s]"
     ]
    },
    {
     "name": "stdout",
     "output_type": "stream",
     "text": [
      "Timeout while fetching OpenAlex ID https://openalex.org/W2169157966. Attempt 1 of 10.\n"
     ]
    },
    {
     "name": "stderr",
     "output_type": "stream",
     "text": [
      "Processing Depth 2:  77%|███████▋  | 19691/25455 [5:09:47<1:20:04,  1.20it/s]"
     ]
    },
    {
     "name": "stdout",
     "output_type": "stream",
     "text": [
      "Timeout while fetching OpenAlex ID https://openalex.org/W2736857166. Attempt 1 of 10.\n"
     ]
    },
    {
     "name": "stderr",
     "output_type": "stream",
     "text": [
      "Processing Depth 2:  77%|███████▋  | 19704/25455 [5:10:09<1:02:41,  1.53it/s]"
     ]
    },
    {
     "name": "stdout",
     "output_type": "stream",
     "text": [
      "Timeout while fetching OpenAlex ID https://openalex.org/W2951772324. Attempt 1 of 10.\n"
     ]
    },
    {
     "name": "stderr",
     "output_type": "stream",
     "text": [
      "Processing Depth 2:  78%|███████▊  | 19733/25455 [5:10:36<58:08,  1.64it/s]  "
     ]
    },
    {
     "name": "stdout",
     "output_type": "stream",
     "text": [
      "HTTP error occurred for OpenAlex ID https://openalex.org/W2530816535: 404 Client Error: NOT FOUND for url: https://api.openalex.org/works/W2530816535\n",
      "Failed to fetch data for OpenAlex ID: https://openalex.org/W2530816535 after 10 attempts.\n"
     ]
    },
    {
     "name": "stderr",
     "output_type": "stream",
     "text": [
      "Processing Depth 2:  78%|███████▊  | 19894/25455 [5:13:50<2:39:10,  1.72s/it]"
     ]
    },
    {
     "name": "stdout",
     "output_type": "stream",
     "text": [
      "HTTP error occurred for OpenAlex ID https://openalex.org/W2092314873: 404 Client Error: NOT FOUND for url: https://api.openalex.org/works/W2092314873\n",
      "Failed to fetch data for OpenAlex ID: https://openalex.org/W2092314873 after 10 attempts.\n"
     ]
    },
    {
     "name": "stderr",
     "output_type": "stream",
     "text": [
      "Processing Depth 2:  79%|███████▊  | 20000/25455 [5:16:41<2:57:05,  1.95s/it]"
     ]
    },
    {
     "name": "stdout",
     "output_type": "stream",
     "text": [
      "\n",
      "\n",
      "File for Depth-2, Count-20000 : Saved\n",
      "Number of Unique Papers at Depth-2, Count-20000 (cummulative of all depths) : 13033\n",
      "\n",
      "\n"
     ]
    },
    {
     "name": "stderr",
     "output_type": "stream",
     "text": [
      "Processing Depth 2:  80%|███████▉  | 20258/25455 [5:23:30<1:28:39,  1.02s/it]"
     ]
    },
    {
     "name": "stdout",
     "output_type": "stream",
     "text": [
      "Timeout while fetching OpenAlex ID https://openalex.org/W2524926761. Attempt 1 of 10.\n"
     ]
    },
    {
     "name": "stderr",
     "output_type": "stream",
     "text": [
      "Processing Depth 2:  81%|████████  | 20624/25455 [5:30:00<1:20:57,  1.01s/it]"
     ]
    },
    {
     "name": "stdout",
     "output_type": "stream",
     "text": [
      "Timeout while fetching OpenAlex ID https://openalex.org/W2595808071. Attempt 1 of 10.\n"
     ]
    },
    {
     "name": "stderr",
     "output_type": "stream",
     "text": [
      "Processing Depth 2:  81%|████████  | 20628/25455 [5:30:13<2:17:56,  1.71s/it]"
     ]
    },
    {
     "name": "stdout",
     "output_type": "stream",
     "text": [
      "Timeout while fetching OpenAlex ID https://openalex.org/W2781722458. Attempt 1 of 10.\n"
     ]
    },
    {
     "name": "stderr",
     "output_type": "stream",
     "text": [
      "Processing Depth 2:  81%|████████  | 20630/25455 [5:30:26<4:50:34,  3.61s/it]"
     ]
    },
    {
     "name": "stdout",
     "output_type": "stream",
     "text": [
      "Timeout while fetching OpenAlex ID https://openalex.org/W2793991222. Attempt 1 of 10.\n"
     ]
    },
    {
     "name": "stderr",
     "output_type": "stream",
     "text": [
      "Processing Depth 2:  81%|████████  | 20637/25455 [5:30:43<2:03:48,  1.54s/it]"
     ]
    },
    {
     "name": "stdout",
     "output_type": "stream",
     "text": [
      "Timeout while fetching OpenAlex ID https://openalex.org/W2897959622. Attempt 1 of 10.\n"
     ]
    },
    {
     "name": "stderr",
     "output_type": "stream",
     "text": [
      "Processing Depth 2:  81%|████████  | 20643/25455 [5:31:00<2:02:58,  1.53s/it]"
     ]
    },
    {
     "name": "stdout",
     "output_type": "stream",
     "text": [
      "Timeout while fetching OpenAlex ID https://openalex.org/W2956212660. Attempt 1 of 10.\n"
     ]
    },
    {
     "name": "stderr",
     "output_type": "stream",
     "text": [
      "Processing Depth 2:  81%|████████  | 20654/25455 [5:31:17<1:00:55,  1.31it/s]"
     ]
    },
    {
     "name": "stdout",
     "output_type": "stream",
     "text": [
      "Timeout while fetching OpenAlex ID https://openalex.org/W2972246420. Attempt 1 of 10.\n"
     ]
    },
    {
     "name": "stderr",
     "output_type": "stream",
     "text": [
      "Processing Depth 2:  81%|████████  | 20667/25455 [5:31:39<1:10:20,  1.13it/s]"
     ]
    },
    {
     "name": "stdout",
     "output_type": "stream",
     "text": [
      "Timeout while fetching OpenAlex ID https://openalex.org/W2998529711. Attempt 1 of 10.\n"
     ]
    },
    {
     "name": "stderr",
     "output_type": "stream",
     "text": [
      "Processing Depth 2:  81%|████████  | 20670/25455 [5:31:52<3:11:38,  2.40s/it]"
     ]
    },
    {
     "name": "stdout",
     "output_type": "stream",
     "text": [
      "Timeout while fetching OpenAlex ID https://openalex.org/W869085174. Attempt 1 of 10.\n"
     ]
    },
    {
     "name": "stderr",
     "output_type": "stream",
     "text": [
      "Processing Depth 2:  81%|████████▏ | 20694/25455 [5:32:23<51:41,  1.54it/s]  "
     ]
    },
    {
     "name": "stdout",
     "output_type": "stream",
     "text": [
      "Timeout while fetching OpenAlex ID https://openalex.org/W2925411754. Attempt 1 of 10.\n"
     ]
    },
    {
     "name": "stderr",
     "output_type": "stream",
     "text": [
      "Processing Depth 2:  81%|████████▏ | 20711/25455 [5:32:50<1:18:02,  1.01it/s]"
     ]
    },
    {
     "name": "stdout",
     "output_type": "stream",
     "text": [
      "Timeout while fetching OpenAlex ID https://openalex.org/W3023019135. Attempt 1 of 10.\n"
     ]
    },
    {
     "name": "stderr",
     "output_type": "stream",
     "text": [
      "Processing Depth 2:  81%|████████▏ | 20732/25455 [5:33:20<1:39:40,  1.27s/it]"
     ]
    },
    {
     "name": "stdout",
     "output_type": "stream",
     "text": [
      "Timeout while fetching OpenAlex ID https://openalex.org/W3004318991. Attempt 1 of 10.\n"
     ]
    },
    {
     "name": "stderr",
     "output_type": "stream",
     "text": [
      "Processing Depth 2:  86%|████████▋ | 22000/25455 [5:47:58<24:07,  2.39it/s]  "
     ]
    },
    {
     "name": "stdout",
     "output_type": "stream",
     "text": [
      "\n",
      "\n",
      "File for Depth-2, Count-22000 : Saved\n",
      "Number of Unique Papers at Depth-2, Count-22000 (cummulative of all depths) : 14183\n",
      "\n",
      "\n"
     ]
    },
    {
     "name": "stderr",
     "output_type": "stream",
     "text": [
      "Processing Depth 2:  92%|█████████▏| 23324/25455 [6:08:07<13:22,  2.65it/s]  "
     ]
    },
    {
     "name": "stdout",
     "output_type": "stream",
     "text": [
      "Timeout while fetching OpenAlex ID https://openalex.org/W2106554478. Attempt 1 of 10.\n"
     ]
    },
    {
     "name": "stderr",
     "output_type": "stream",
     "text": [
      "Processing Depth 2:  94%|█████████▍| 24001/25455 [6:18:30<13:52,  1.75it/s]  "
     ]
    },
    {
     "name": "stdout",
     "output_type": "stream",
     "text": [
      "\n",
      "\n",
      "File for Depth-2, Count-24000 : Saved\n",
      "Number of Unique Papers at Depth-2, Count-24000 (cummulative of all depths) : 15292\n",
      "\n",
      "\n"
     ]
    },
    {
     "name": "stderr",
     "output_type": "stream",
     "text": [
      "Processing Depth 2:  95%|█████████▍| 24066/25455 [6:19:28<35:48,  1.55s/it]"
     ]
    },
    {
     "name": "stdout",
     "output_type": "stream",
     "text": [
      "Timeout while fetching OpenAlex ID https://openalex.org/W2168117308. Attempt 1 of 10.\n"
     ]
    },
    {
     "name": "stderr",
     "output_type": "stream",
     "text": [
      "Processing Depth 2:  95%|█████████▍| 24067/25455 [6:19:39<1:45:49,  4.57s/it]"
     ]
    },
    {
     "name": "stdout",
     "output_type": "stream",
     "text": [
      "Timeout while fetching OpenAlex ID https://openalex.org/W2171640106. Attempt 1 of 10.\n"
     ]
    },
    {
     "name": "stderr",
     "output_type": "stream",
     "text": [
      "Processing Depth 2:  98%|█████████▊| 24844/25455 [6:28:05<10:32,  1.03s/it]  "
     ]
    },
    {
     "name": "stdout",
     "output_type": "stream",
     "text": [
      "HTTP error occurred for OpenAlex ID https://openalex.org/W2770298516: 404 Client Error: NOT FOUND for url: https://api.openalex.org/works/W2770298516\n",
      "Failed to fetch data for OpenAlex ID: https://openalex.org/W2770298516 after 10 attempts.\n"
     ]
    },
    {
     "name": "stderr",
     "output_type": "stream",
     "text": [
      "Processing Depth 2: 100%|█████████▉| 25376/25455 [6:31:54<00:14,  5.38it/s]"
     ]
    },
    {
     "name": "stdout",
     "output_type": "stream",
     "text": [
      "HTTP error occurred for OpenAlex ID https://openalex.org/W2530816535: 404 Client Error: NOT FOUND for url: https://api.openalex.org/works/W2530816535\n",
      "Failed to fetch data for OpenAlex ID: https://openalex.org/W2530816535 after 10 attempts.\n"
     ]
    },
    {
     "name": "stderr",
     "output_type": "stream",
     "text": [
      "Processing Depth 2: 100%|██████████| 25455/25455 [6:32:34<00:00,  1.08it/s]\n"
     ]
    },
    {
     "name": "stdout",
     "output_type": "stream",
     "text": [
      "\n",
      "\n",
      "File for Depth-2 : Saved\n",
      "Number of Unique Papers at Depth-2 (cummulative of all depths) : 15781\n",
      "\n",
      "\n"
     ]
    },
    {
     "name": "stderr",
     "output_type": "stream",
     "text": [
      "Processing Depth 3:   0%|          | 25/379679 [00:04<18:18:49,  5.76it/s]"
     ]
    },
    {
     "name": "stdout",
     "output_type": "stream",
     "text": [
      "Timeout while fetching OpenAlex ID https://openalex.org/W2128076038. Attempt 1 of 10.\n"
     ]
    },
    {
     "name": "stderr",
     "output_type": "stream",
     "text": [
      "Processing Depth 3:   0%|          | 1527/379679 [15:00<57:49:58,  1.82it/s] "
     ]
    },
    {
     "name": "stdout",
     "output_type": "stream",
     "text": [
      "HTTP error occurred for OpenAlex ID https://openalex.org/W2305141285: 404 Client Error: NOT FOUND for url: https://api.openalex.org/works/W2305141285\n",
      "Failed to fetch data for OpenAlex ID: https://openalex.org/W2305141285 after 10 attempts.\n"
     ]
    },
    {
     "name": "stderr",
     "output_type": "stream",
     "text": [
      "Processing Depth 3:   1%|          | 2000/379679 [17:45<34:07:48,  3.07it/s] "
     ]
    },
    {
     "name": "stdout",
     "output_type": "stream",
     "text": [
      "\n",
      "\n",
      "File for Depth-3, Count-2000 : Saved\n",
      "Number of Unique Papers at Depth-3, Count-2000 (cummulative of all depths) : 16411\n",
      "\n",
      "\n"
     ]
    },
    {
     "name": "stderr",
     "output_type": "stream",
     "text": [
      "Processing Depth 3:   1%|          | 2967/379679 [32:52<180:12:52,  1.72s/it]"
     ]
    },
    {
     "name": "stdout",
     "output_type": "stream",
     "text": [
      "HTTP error occurred for OpenAlex ID https://openalex.org/W2797816625: 404 Client Error: NOT FOUND for url: https://api.openalex.org/works/W2797816625\n",
      "Failed to fetch data for OpenAlex ID: https://openalex.org/W2797816625 after 10 attempts.\n"
     ]
    },
    {
     "name": "stderr",
     "output_type": "stream",
     "text": [
      "Processing Depth 3:   1%|          | 3920/379679 [46:48<135:02:04,  1.29s/it]"
     ]
    },
    {
     "name": "stdout",
     "output_type": "stream",
     "text": [
      "HTTP error occurred for OpenAlex ID https://openalex.org/W1497372157: 404 Client Error: NOT FOUND for url: https://api.openalex.org/works/W1497372157\n",
      "Failed to fetch data for OpenAlex ID: https://openalex.org/W1497372157 after 10 attempts.\n"
     ]
    },
    {
     "name": "stderr",
     "output_type": "stream",
     "text": [
      "Processing Depth 3:   1%|          | 3921/379679 [46:49<125:32:40,  1.20s/it]"
     ]
    },
    {
     "name": "stdout",
     "output_type": "stream",
     "text": [
      "HTTP error occurred for OpenAlex ID https://openalex.org/W1527659222: 404 Client Error: NOT FOUND for url: https://api.openalex.org/works/W1527659222\n",
      "Failed to fetch data for OpenAlex ID: https://openalex.org/W1527659222 after 10 attempts.\n"
     ]
    },
    {
     "name": "stderr",
     "output_type": "stream",
     "text": [
      "Processing Depth 3:   1%|          | 3925/379679 [46:50<66:49:35,  1.56it/s] "
     ]
    },
    {
     "name": "stdout",
     "output_type": "stream",
     "text": [
      "HTTP error occurred for OpenAlex ID https://openalex.org/W1778945106: 404 Client Error: NOT FOUND for url: https://api.openalex.org/works/W1778945106\n",
      "Failed to fetch data for OpenAlex ID: https://openalex.org/W1778945106 after 10 attempts.\n"
     ]
    },
    {
     "name": "stderr",
     "output_type": "stream",
     "text": [
      "Processing Depth 3:   1%|          | 3926/379679 [46:52<74:37:59,  1.40it/s]"
     ]
    },
    {
     "name": "stdout",
     "output_type": "stream",
     "text": [
      "HTTP error occurred for OpenAlex ID https://openalex.org/W1795572140: 404 Client Error: NOT FOUND for url: https://api.openalex.org/works/W1795572140\n",
      "Failed to fetch data for OpenAlex ID: https://openalex.org/W1795572140 after 10 attempts.\n"
     ]
    },
    {
     "name": "stderr",
     "output_type": "stream",
     "text": [
      "Processing Depth 3:   1%|          | 3927/379679 [46:54<102:14:31,  1.02it/s]"
     ]
    },
    {
     "name": "stdout",
     "output_type": "stream",
     "text": [
      "HTTP error occurred for OpenAlex ID https://openalex.org/W1893202035: 404 Client Error: NOT FOUND for url: https://api.openalex.org/works/W1893202035\n",
      "Failed to fetch data for OpenAlex ID: https://openalex.org/W1893202035 after 10 attempts.\n"
     ]
    },
    {
     "name": "stderr",
     "output_type": "stream",
     "text": [
      "Processing Depth 3:   1%|          | 3943/379679 [47:01<56:45:27,  1.84it/s] "
     ]
    },
    {
     "name": "stdout",
     "output_type": "stream",
     "text": [
      "HTTP error occurred for OpenAlex ID https://openalex.org/W2147826395: 404 Client Error: NOT FOUND for url: https://api.openalex.org/works/W2147826395\n",
      "Failed to fetch data for OpenAlex ID: https://openalex.org/W2147826395 after 10 attempts.\n"
     ]
    },
    {
     "name": "stderr",
     "output_type": "stream",
     "text": [
      "Processing Depth 3:   1%|          | 3950/379679 [47:06<60:42:12,  1.72it/s]"
     ]
    },
    {
     "name": "stdout",
     "output_type": "stream",
     "text": [
      "HTTP error occurred for OpenAlex ID https://openalex.org/W2282711009: 404 Client Error: NOT FOUND for url: https://api.openalex.org/works/W2282711009\n",
      "Failed to fetch data for OpenAlex ID: https://openalex.org/W2282711009 after 10 attempts.\n"
     ]
    },
    {
     "name": "stderr",
     "output_type": "stream",
     "text": [
      "Processing Depth 3:   1%|          | 3952/379679 [47:09<110:07:19,  1.06s/it]"
     ]
    },
    {
     "name": "stdout",
     "output_type": "stream",
     "text": [
      "HTTP error occurred for OpenAlex ID https://openalex.org/W2304912945: 404 Client Error: NOT FOUND for url: https://api.openalex.org/works/W2304912945\n",
      "Failed to fetch data for OpenAlex ID: https://openalex.org/W2304912945 after 10 attempts.\n"
     ]
    },
    {
     "name": "stderr",
     "output_type": "stream",
     "text": [
      "Processing Depth 3:   1%|          | 4000/379679 [48:18<155:36:21,  1.49s/it]"
     ]
    },
    {
     "name": "stdout",
     "output_type": "stream",
     "text": [
      "\n",
      "\n",
      "File for Depth-3, Count-4000 : Saved\n",
      "Number of Unique Papers at Depth-3, Count-4000 (cummulative of all depths) : 17466\n",
      "\n",
      "\n"
     ]
    },
    {
     "name": "stderr",
     "output_type": "stream",
     "text": [
      "Processing Depth 3:   1%|▏         | 4849/379679 [59:22<81:47:28,  1.27it/s] "
     ]
    },
    {
     "name": "stdout",
     "output_type": "stream",
     "text": [
      "HTTP error occurred for OpenAlex ID https://openalex.org/W2305141285: 404 Client Error: NOT FOUND for url: https://api.openalex.org/works/W2305141285\n",
      "Failed to fetch data for OpenAlex ID: https://openalex.org/W2305141285 after 10 attempts.\n"
     ]
    },
    {
     "name": "stderr",
     "output_type": "stream",
     "text": [
      "Processing Depth 3:   1%|▏         | 5000/379679 [1:01:21<70:45:31,  1.47it/s] "
     ]
    },
    {
     "name": "stdout",
     "output_type": "stream",
     "text": [
      "\n",
      "\n",
      "File for Depth-3, Count-5000 : Saved\n",
      "Number of Unique Papers at Depth-3, Count-5000 (cummulative of all depths) : 17948\n",
      "\n",
      "\n"
     ]
    },
    {
     "name": "stderr",
     "output_type": "stream",
     "text": [
      "Processing Depth 3:   1%|▏         | 5013/379679 [1:01:28<45:01:03,  2.31it/s] "
     ]
    },
    {
     "name": "stdout",
     "output_type": "stream",
     "text": [
      "HTTP error occurred for OpenAlex ID https://openalex.org/W2131344613: 404 Client Error: NOT FOUND for url: https://api.openalex.org/works/W2131344613\n",
      "Failed to fetch data for OpenAlex ID: https://openalex.org/W2131344613 after 10 attempts.\n"
     ]
    },
    {
     "name": "stderr",
     "output_type": "stream",
     "text": [
      "Processing Depth 3:   1%|▏         | 5164/379679 [1:03:00<17:46:12,  5.85it/s] "
     ]
    },
    {
     "name": "stdout",
     "output_type": "stream",
     "text": [
      "HTTP error occurred for OpenAlex ID https://openalex.org/W2305141285: 404 Client Error: NOT FOUND for url: https://api.openalex.org/works/W2305141285\n",
      "Failed to fetch data for OpenAlex ID: https://openalex.org/W2305141285 after 10 attempts.\n"
     ]
    },
    {
     "name": "stderr",
     "output_type": "stream",
     "text": [
      "Processing Depth 3:   2%|▏         | 7000/379679 [1:25:52<28:29:28,  3.63it/s] "
     ]
    },
    {
     "name": "stdout",
     "output_type": "stream",
     "text": [
      "\n",
      "\n",
      "File for Depth-3, Count-7000 : Saved\n",
      "Number of Unique Papers at Depth-3, Count-7000 (cummulative of all depths) : 18885\n",
      "\n",
      "\n"
     ]
    },
    {
     "name": "stderr",
     "output_type": "stream",
     "text": [
      "Processing Depth 3:   2%|▏         | 7837/379679 [1:39:07<119:02:04,  1.15s/it]"
     ]
    },
    {
     "name": "stdout",
     "output_type": "stream",
     "text": [
      "HTTP error occurred for OpenAlex ID https://openalex.org/W1952605394: 404 Client Error: NOT FOUND for url: https://api.openalex.org/works/W1952605394\n",
      "Failed to fetch data for OpenAlex ID: https://openalex.org/W1952605394 after 10 attempts.\n"
     ]
    },
    {
     "name": "stderr",
     "output_type": "stream",
     "text": [
      "Processing Depth 3:   2%|▏         | 8001/379679 [1:41:43<140:36:40,  1.36s/it]"
     ]
    },
    {
     "name": "stdout",
     "output_type": "stream",
     "text": [
      "\n",
      "\n",
      "File for Depth-3, Count-8000 : Saved\n",
      "Number of Unique Papers at Depth-3, Count-8000 (cummulative of all depths) : 19563\n",
      "\n",
      "\n"
     ]
    },
    {
     "name": "stderr",
     "output_type": "stream",
     "text": [
      "Processing Depth 3:   2%|▏         | 8031/379679 [1:42:17<189:38:43,  1.84s/it]"
     ]
    },
    {
     "name": "stdout",
     "output_type": "stream",
     "text": [
      "HTTP error occurred for OpenAlex ID https://openalex.org/W1761458024: 404 Client Error: NOT FOUND for url: https://api.openalex.org/works/W1761458024\n",
      "Failed to fetch data for OpenAlex ID: https://openalex.org/W1761458024 after 10 attempts.\n"
     ]
    },
    {
     "name": "stderr",
     "output_type": "stream",
     "text": [
      "Processing Depth 3:   2%|▏         | 8271/379679 [1:45:43<109:20:54,  1.06s/it]"
     ]
    },
    {
     "name": "stdout",
     "output_type": "stream",
     "text": [
      "HTTP error occurred for OpenAlex ID https://openalex.org/W2104241941: 404 Client Error: NOT FOUND for url: https://api.openalex.org/works/W2104241941\n",
      "Failed to fetch data for OpenAlex ID: https://openalex.org/W2104241941 after 10 attempts.\n"
     ]
    },
    {
     "name": "stderr",
     "output_type": "stream",
     "text": [
      "Processing Depth 3:   2%|▏         | 8286/379679 [1:45:54<83:06:56,  1.24it/s] "
     ]
    },
    {
     "name": "stdout",
     "output_type": "stream",
     "text": [
      "HTTP error occurred for OpenAlex ID https://openalex.org/W2152477898: 404 Client Error: NOT FOUND for url: https://api.openalex.org/works/W2152477898\n",
      "Failed to fetch data for OpenAlex ID: https://openalex.org/W2152477898 after 10 attempts.\n"
     ]
    },
    {
     "name": "stderr",
     "output_type": "stream",
     "text": [
      "Processing Depth 3:   3%|▎         | 10636/379679 [2:11:57<31:06:39,  3.30it/s] "
     ]
    },
    {
     "name": "stdout",
     "output_type": "stream",
     "text": [
      "HTTP error occurred for OpenAlex ID https://openalex.org/W3104873989: 404 Client Error: NOT FOUND for url: https://api.openalex.org/works/W3104873989\n",
      "Failed to fetch data for OpenAlex ID: https://openalex.org/W3104873989 after 10 attempts.\n"
     ]
    },
    {
     "name": "stderr",
     "output_type": "stream",
     "text": [
      "Processing Depth 3:   3%|▎         | 11001/379679 [2:16:50<116:32:26,  1.14s/it]"
     ]
    },
    {
     "name": "stdout",
     "output_type": "stream",
     "text": [
      "\n",
      "\n",
      "File for Depth-3, Count-11000 : Saved\n",
      "Number of Unique Papers at Depth-3, Count-11000 (cummulative of all depths) : 20894\n",
      "\n",
      "\n"
     ]
    },
    {
     "name": "stderr",
     "output_type": "stream",
     "text": [
      "Processing Depth 3:   3%|▎         | 12001/379679 [2:28:11<177:16:07,  1.74s/it]"
     ]
    },
    {
     "name": "stdout",
     "output_type": "stream",
     "text": [
      "\n",
      "\n",
      "File for Depth-3, Count-12000 : Saved\n",
      "Number of Unique Papers at Depth-3, Count-12000 (cummulative of all depths) : 21282\n",
      "\n",
      "\n"
     ]
    },
    {
     "name": "stderr",
     "output_type": "stream",
     "text": [
      "Processing Depth 3:   3%|▎         | 12561/379679 [2:36:54<54:57:17,  1.86it/s] "
     ]
    },
    {
     "name": "stdout",
     "output_type": "stream",
     "text": [
      "HTTP error occurred for OpenAlex ID https://openalex.org/W2011495938: 404 Client Error: NOT FOUND for url: https://api.openalex.org/works/W2011495938\n",
      "Failed to fetch data for OpenAlex ID: https://openalex.org/W2011495938 after 10 attempts.\n"
     ]
    },
    {
     "name": "stderr",
     "output_type": "stream",
     "text": [
      "Processing Depth 3:   3%|▎         | 13000/379679 [2:39:21<48:22:22,  2.11it/s] "
     ]
    },
    {
     "name": "stdout",
     "output_type": "stream",
     "text": [
      "\n",
      "\n",
      "File for Depth-3, Count-13000 : Saved\n",
      "Number of Unique Papers at Depth-3, Count-13000 (cummulative of all depths) : 21908\n",
      "\n",
      "\n"
     ]
    },
    {
     "name": "stderr",
     "output_type": "stream",
     "text": [
      "Processing Depth 3:   4%|▎         | 13724/379679 [2:50:00<181:37:17,  1.79s/it]"
     ]
    },
    {
     "name": "stdout",
     "output_type": "stream",
     "text": [
      "HTTP error occurred for OpenAlex ID https://openalex.org/W2061186245: 404 Client Error: NOT FOUND for url: https://api.openalex.org/works/W2061186245\n",
      "Failed to fetch data for OpenAlex ID: https://openalex.org/W2061186245 after 10 attempts.\n"
     ]
    },
    {
     "name": "stderr",
     "output_type": "stream",
     "text": [
      "Processing Depth 3:   4%|▎         | 14000/379679 [2:54:51<102:40:14,  1.01s/it]"
     ]
    },
    {
     "name": "stdout",
     "output_type": "stream",
     "text": [
      "\n",
      "\n",
      "File for Depth-3, Count-14000 : Saved\n",
      "Number of Unique Papers at Depth-3, Count-14000 (cummulative of all depths) : 22482\n",
      "\n",
      "\n"
     ]
    },
    {
     "name": "stderr",
     "output_type": "stream",
     "text": [
      "Processing Depth 3:   4%|▍         | 15000/379679 [3:12:43<61:59:43,  1.63it/s] "
     ]
    },
    {
     "name": "stdout",
     "output_type": "stream",
     "text": [
      "\n",
      "\n",
      "File for Depth-3, Count-15000 : Saved\n",
      "Number of Unique Papers at Depth-3, Count-15000 (cummulative of all depths) : 23159\n",
      "\n",
      "\n"
     ]
    },
    {
     "name": "stderr",
     "output_type": "stream",
     "text": [
      "Processing Depth 3:   4%|▍         | 15660/379679 [3:22:08<65:33:14,  1.54it/s] "
     ]
    },
    {
     "name": "stdout",
     "output_type": "stream",
     "text": [
      "HTTP error occurred for OpenAlex ID https://openalex.org/W93405014: 404 Client Error: NOT FOUND for url: https://api.openalex.org/works/W93405014\n",
      "Failed to fetch data for OpenAlex ID: https://openalex.org/W93405014 after 10 attempts.\n"
     ]
    },
    {
     "name": "stderr",
     "output_type": "stream",
     "text": [
      "Processing Depth 3:   4%|▍         | 15767/379679 [3:22:28<8:38:46, 11.69it/s]  "
     ]
    },
    {
     "name": "stdout",
     "output_type": "stream",
     "text": [
      "HTTP error occurred for OpenAlex ID https://openalex.org/W299739017: 404 Client Error: NOT FOUND for url: https://api.openalex.org/works/W299739017\n",
      "Failed to fetch data for OpenAlex ID: https://openalex.org/W299739017 after 10 attempts.\n"
     ]
    },
    {
     "name": "stderr",
     "output_type": "stream",
     "text": [
      "Processing Depth 3:   4%|▍         | 17001/379679 [3:35:42<130:58:54,  1.30s/it]"
     ]
    },
    {
     "name": "stdout",
     "output_type": "stream",
     "text": [
      "\n",
      "\n",
      "File for Depth-3, Count-17000 : Saved\n",
      "Number of Unique Papers at Depth-3, Count-17000 (cummulative of all depths) : 23998\n",
      "\n",
      "\n"
     ]
    },
    {
     "name": "stderr",
     "output_type": "stream",
     "text": [
      "Processing Depth 3:   5%|▍         | 17293/379679 [3:39:49<109:51:25,  1.09s/it]"
     ]
    },
    {
     "name": "stdout",
     "output_type": "stream",
     "text": [
      "HTTP error occurred for OpenAlex ID https://openalex.org/W2036962676: 404 Client Error: NOT FOUND for url: https://api.openalex.org/works/W2036962676\n",
      "Failed to fetch data for OpenAlex ID: https://openalex.org/W2036962676 after 10 attempts.\n"
     ]
    },
    {
     "name": "stderr",
     "output_type": "stream",
     "text": [
      "Processing Depth 3:   5%|▍         | 17310/379679 [3:39:57<44:19:10,  2.27it/s] "
     ]
    },
    {
     "name": "stdout",
     "output_type": "stream",
     "text": [
      "HTTP error occurred for OpenAlex ID https://openalex.org/W2412985740: 404 Client Error: NOT FOUND for url: https://api.openalex.org/works/W2412985740\n",
      "Failed to fetch data for OpenAlex ID: https://openalex.org/W2412985740 after 10 attempts.\n"
     ]
    },
    {
     "name": "stderr",
     "output_type": "stream",
     "text": [
      "Processing Depth 3:   5%|▍         | 18685/379679 [3:58:41<96:39:36,  1.04it/s] "
     ]
    },
    {
     "name": "stdout",
     "output_type": "stream",
     "text": [
      "HTTP error occurred for OpenAlex ID https://openalex.org/W1000595131: 404 Client Error: NOT FOUND for url: https://api.openalex.org/works/W1000595131\n",
      "Failed to fetch data for OpenAlex ID: https://openalex.org/W1000595131 after 10 attempts.\n"
     ]
    },
    {
     "name": "stderr",
     "output_type": "stream",
     "text": [
      "Processing Depth 3:   5%|▍         | 18686/379679 [3:58:43<110:40:25,  1.10s/it]"
     ]
    },
    {
     "name": "stdout",
     "output_type": "stream",
     "text": [
      "HTTP error occurred for OpenAlex ID https://openalex.org/W1012643070: 404 Client Error: NOT FOUND for url: https://api.openalex.org/works/W1012643070\n",
      "Failed to fetch data for OpenAlex ID: https://openalex.org/W1012643070 after 10 attempts.\n"
     ]
    },
    {
     "name": "stderr",
     "output_type": "stream",
     "text": [
      "Processing Depth 3:   5%|▍         | 18689/379679 [3:58:47<144:29:12,  1.44s/it]"
     ]
    },
    {
     "name": "stdout",
     "output_type": "stream",
     "text": [
      "HTTP error occurred for OpenAlex ID https://openalex.org/W1485744969: 404 Client Error: NOT FOUND for url: https://api.openalex.org/works/W1485744969\n",
      "Failed to fetch data for OpenAlex ID: https://openalex.org/W1485744969 after 10 attempts.\n"
     ]
    },
    {
     "name": "stderr",
     "output_type": "stream",
     "text": [
      "Processing Depth 3:   5%|▍         | 18692/379679 [3:58:50<122:08:20,  1.22s/it]"
     ]
    },
    {
     "name": "stdout",
     "output_type": "stream",
     "text": [
      "HTTP error occurred for OpenAlex ID https://openalex.org/W1520372962: 404 Client Error: NOT FOUND for url: https://api.openalex.org/works/W1520372962\n",
      "Failed to fetch data for OpenAlex ID: https://openalex.org/W1520372962 after 10 attempts.\n"
     ]
    },
    {
     "name": "stderr",
     "output_type": "stream",
     "text": [
      "Processing Depth 3:   5%|▍         | 18693/379679 [3:58:52<139:38:10,  1.39s/it]"
     ]
    },
    {
     "name": "stdout",
     "output_type": "stream",
     "text": [
      "HTTP error occurred for OpenAlex ID https://openalex.org/W1526695700: 404 Client Error: NOT FOUND for url: https://api.openalex.org/works/W1526695700\n",
      "Failed to fetch data for OpenAlex ID: https://openalex.org/W1526695700 after 10 attempts.\n"
     ]
    },
    {
     "name": "stderr",
     "output_type": "stream",
     "text": [
      "Processing Depth 3:   5%|▍         | 18695/379679 [3:58:56<186:55:16,  1.86s/it]"
     ]
    },
    {
     "name": "stdout",
     "output_type": "stream",
     "text": [
      "HTTP error occurred for OpenAlex ID https://openalex.org/W1542613344: 404 Client Error: NOT FOUND for url: https://api.openalex.org/works/W1542613344\n",
      "Failed to fetch data for OpenAlex ID: https://openalex.org/W1542613344 after 10 attempts.\n"
     ]
    },
    {
     "name": "stderr",
     "output_type": "stream",
     "text": [
      "Processing Depth 3:   5%|▍         | 18696/379679 [3:58:58<173:27:53,  1.73s/it]"
     ]
    },
    {
     "name": "stdout",
     "output_type": "stream",
     "text": [
      "HTTP error occurred for OpenAlex ID https://openalex.org/W1549066063: 404 Client Error: NOT FOUND for url: https://api.openalex.org/works/W1549066063\n",
      "Failed to fetch data for OpenAlex ID: https://openalex.org/W1549066063 after 10 attempts.\n"
     ]
    },
    {
     "name": "stderr",
     "output_type": "stream",
     "text": [
      "Processing Depth 3:   5%|▍         | 18700/379679 [3:59:04<147:43:31,  1.47s/it]"
     ]
    },
    {
     "name": "stdout",
     "output_type": "stream",
     "text": [
      "HTTP error occurred for OpenAlex ID https://openalex.org/W1603425876: 404 Client Error: NOT FOUND for url: https://api.openalex.org/works/W1603425876\n",
      "Failed to fetch data for OpenAlex ID: https://openalex.org/W1603425876 after 10 attempts.\n"
     ]
    },
    {
     "name": "stderr",
     "output_type": "stream",
     "text": [
      "Processing Depth 3:   5%|▍         | 18702/379679 [3:59:06<134:30:25,  1.34s/it]"
     ]
    },
    {
     "name": "stdout",
     "output_type": "stream",
     "text": [
      "HTTP error occurred for OpenAlex ID https://openalex.org/W1837214690: 404 Client Error: NOT FOUND for url: https://api.openalex.org/works/W1837214690\n",
      "Failed to fetch data for OpenAlex ID: https://openalex.org/W1837214690 after 10 attempts.\n"
     ]
    },
    {
     "name": "stderr",
     "output_type": "stream",
     "text": [
      "Processing Depth 3:   5%|▍         | 18704/379679 [3:59:09<138:05:30,  1.38s/it]"
     ]
    },
    {
     "name": "stdout",
     "output_type": "stream",
     "text": [
      "HTTP error occurred for OpenAlex ID https://openalex.org/W1869331300: 404 Client Error: NOT FOUND for url: https://api.openalex.org/works/W1869331300\n",
      "Failed to fetch data for OpenAlex ID: https://openalex.org/W1869331300 after 10 attempts.\n"
     ]
    },
    {
     "name": "stderr",
     "output_type": "stream",
     "text": [
      "Processing Depth 3:   5%|▍         | 18706/379679 [3:59:13<158:00:37,  1.58s/it]"
     ]
    },
    {
     "name": "stdout",
     "output_type": "stream",
     "text": [
      "HTTP error occurred for OpenAlex ID https://openalex.org/W1902022789: 404 Client Error: NOT FOUND for url: https://api.openalex.org/works/W1902022789\n",
      "Failed to fetch data for OpenAlex ID: https://openalex.org/W1902022789 after 10 attempts.\n"
     ]
    },
    {
     "name": "stderr",
     "output_type": "stream",
     "text": [
      "Processing Depth 3:   5%|▍         | 18707/379679 [3:59:14<144:29:07,  1.44s/it]"
     ]
    },
    {
     "name": "stdout",
     "output_type": "stream",
     "text": [
      "HTTP error occurred for OpenAlex ID https://openalex.org/W1939911020: 404 Client Error: NOT FOUND for url: https://api.openalex.org/works/W1939911020\n",
      "Failed to fetch data for OpenAlex ID: https://openalex.org/W1939911020 after 10 attempts.\n"
     ]
    },
    {
     "name": "stderr",
     "output_type": "stream",
     "text": [
      "Processing Depth 3:   5%|▍         | 18708/379679 [3:59:16<169:00:44,  1.69s/it]"
     ]
    },
    {
     "name": "stdout",
     "output_type": "stream",
     "text": [
      "HTTP error occurred for OpenAlex ID https://openalex.org/W1948573528: 404 Client Error: NOT FOUND for url: https://api.openalex.org/works/W1948573528\n",
      "Failed to fetch data for OpenAlex ID: https://openalex.org/W1948573528 after 10 attempts.\n"
     ]
    },
    {
     "name": "stderr",
     "output_type": "stream",
     "text": [
      "Processing Depth 3:   5%|▍         | 18751/379679 [4:00:28<152:05:34,  1.52s/it]"
     ]
    },
    {
     "name": "stdout",
     "output_type": "stream",
     "text": [
      "HTTP error occurred for OpenAlex ID https://openalex.org/W2037862332: 404 Client Error: NOT FOUND for url: https://api.openalex.org/works/W2037862332\n",
      "Failed to fetch data for OpenAlex ID: https://openalex.org/W2037862332 after 10 attempts.\n"
     ]
    },
    {
     "name": "stderr",
     "output_type": "stream",
     "text": [
      "Processing Depth 3:   5%|▍         | 18797/379679 [4:01:39<150:35:58,  1.50s/it]"
     ]
    },
    {
     "name": "stdout",
     "output_type": "stream",
     "text": [
      "HTTP error occurred for OpenAlex ID https://openalex.org/W2102067102: 404 Client Error: NOT FOUND for url: https://api.openalex.org/works/W2102067102\n",
      "Failed to fetch data for OpenAlex ID: https://openalex.org/W2102067102 after 10 attempts.\n"
     ]
    },
    {
     "name": "stderr",
     "output_type": "stream",
     "text": [
      "Processing Depth 3:   5%|▍         | 18820/379679 [4:02:15<201:05:52,  2.01s/it]"
     ]
    },
    {
     "name": "stdout",
     "output_type": "stream",
     "text": [
      "HTTP error occurred for OpenAlex ID https://openalex.org/W2207799934: 404 Client Error: NOT FOUND for url: https://api.openalex.org/works/W2207799934\n",
      "Failed to fetch data for OpenAlex ID: https://openalex.org/W2207799934 after 10 attempts.\n"
     ]
    },
    {
     "name": "stderr",
     "output_type": "stream",
     "text": [
      "Processing Depth 3:   5%|▍         | 18821/379679 [4:02:16<181:42:31,  1.81s/it]"
     ]
    },
    {
     "name": "stdout",
     "output_type": "stream",
     "text": [
      "HTTP error occurred for OpenAlex ID https://openalex.org/W228045708: 404 Client Error: NOT FOUND for url: https://api.openalex.org/works/W228045708\n",
      "Failed to fetch data for OpenAlex ID: https://openalex.org/W228045708 after 10 attempts.\n"
     ]
    },
    {
     "name": "stderr",
     "output_type": "stream",
     "text": [
      "Processing Depth 3:   5%|▍         | 18822/379679 [4:02:17<149:00:43,  1.49s/it]"
     ]
    },
    {
     "name": "stdout",
     "output_type": "stream",
     "text": [
      "HTTP error occurred for OpenAlex ID https://openalex.org/W2282807026: 404 Client Error: NOT FOUND for url: https://api.openalex.org/works/W2282807026\n",
      "Failed to fetch data for OpenAlex ID: https://openalex.org/W2282807026 after 10 attempts.\n"
     ]
    },
    {
     "name": "stderr",
     "output_type": "stream",
     "text": [
      "Processing Depth 3:   5%|▍         | 18825/379679 [4:02:22<169:15:07,  1.69s/it]"
     ]
    },
    {
     "name": "stdout",
     "output_type": "stream",
     "text": [
      "HTTP error occurred for OpenAlex ID https://openalex.org/W232820894: 404 Client Error: NOT FOUND for url: https://api.openalex.org/works/W232820894\n",
      "Failed to fetch data for OpenAlex ID: https://openalex.org/W232820894 after 10 attempts.\n"
     ]
    },
    {
     "name": "stderr",
     "output_type": "stream",
     "text": [
      "Processing Depth 3:   5%|▍         | 18827/379679 [4:02:24<136:35:24,  1.36s/it]"
     ]
    },
    {
     "name": "stdout",
     "output_type": "stream",
     "text": [
      "HTTP error occurred for OpenAlex ID https://openalex.org/W2345970528: 404 Client Error: NOT FOUND for url: https://api.openalex.org/works/W2345970528\n",
      "Failed to fetch data for OpenAlex ID: https://openalex.org/W2345970528 after 10 attempts.\n"
     ]
    },
    {
     "name": "stderr",
     "output_type": "stream",
     "text": [
      "Processing Depth 3:   5%|▍         | 18842/379679 [4:02:51<196:41:00,  1.96s/it]"
     ]
    },
    {
     "name": "stdout",
     "output_type": "stream",
     "text": [
      "HTTP error occurred for OpenAlex ID https://openalex.org/W3103907067: 404 Client Error: NOT FOUND for url: https://api.openalex.org/works/W3103907067\n",
      "Failed to fetch data for OpenAlex ID: https://openalex.org/W3103907067 after 10 attempts.\n"
     ]
    },
    {
     "name": "stderr",
     "output_type": "stream",
     "text": [
      "Processing Depth 3:   5%|▍         | 18843/379679 [4:02:52<178:24:19,  1.78s/it]"
     ]
    },
    {
     "name": "stdout",
     "output_type": "stream",
     "text": [
      "HTTP error occurred for OpenAlex ID https://openalex.org/W3141367219: 404 Client Error: NOT FOUND for url: https://api.openalex.org/works/W3141367219\n",
      "Failed to fetch data for OpenAlex ID: https://openalex.org/W3141367219 after 10 attempts.\n"
     ]
    },
    {
     "name": "stderr",
     "output_type": "stream",
     "text": [
      "Processing Depth 3:   5%|▍         | 18845/379679 [4:02:55<157:37:45,  1.57s/it]"
     ]
    },
    {
     "name": "stdout",
     "output_type": "stream",
     "text": [
      "HTTP error occurred for OpenAlex ID https://openalex.org/W333586406: 404 Client Error: NOT FOUND for url: https://api.openalex.org/works/W333586406\n",
      "Failed to fetch data for OpenAlex ID: https://openalex.org/W333586406 after 10 attempts.\n"
     ]
    },
    {
     "name": "stderr",
     "output_type": "stream",
     "text": [
      "Processing Depth 3:   5%|▍         | 18863/379679 [4:03:20<122:42:32,  1.22s/it]"
     ]
    },
    {
     "name": "stdout",
     "output_type": "stream",
     "text": [
      "HTTP error occurred for OpenAlex ID https://openalex.org/W72743905: 404 Client Error: NOT FOUND for url: https://api.openalex.org/works/W72743905\n",
      "Failed to fetch data for OpenAlex ID: https://openalex.org/W72743905 after 10 attempts.\n"
     ]
    },
    {
     "name": "stderr",
     "output_type": "stream",
     "text": [
      "Processing Depth 3:   5%|▍         | 18866/379679 [4:03:24<121:28:53,  1.21s/it]"
     ]
    },
    {
     "name": "stdout",
     "output_type": "stream",
     "text": [
      "HTTP error occurred for OpenAlex ID https://openalex.org/W938524236: 404 Client Error: NOT FOUND for url: https://api.openalex.org/works/W938524236\n",
      "Failed to fetch data for OpenAlex ID: https://openalex.org/W938524236 after 10 attempts.\n"
     ]
    },
    {
     "name": "stderr",
     "output_type": "stream",
     "text": [
      "Processing Depth 3:   5%|▍         | 18867/379679 [4:03:25<123:32:48,  1.23s/it]"
     ]
    },
    {
     "name": "stdout",
     "output_type": "stream",
     "text": [
      "HTTP error occurred for OpenAlex ID https://openalex.org/W939773347: 404 Client Error: NOT FOUND for url: https://api.openalex.org/works/W939773347\n",
      "Failed to fetch data for OpenAlex ID: https://openalex.org/W939773347 after 10 attempts.\n"
     ]
    },
    {
     "name": "stderr",
     "output_type": "stream",
     "text": [
      "Processing Depth 3:   5%|▍         | 18868/379679 [4:03:26<131:10:44,  1.31s/it]"
     ]
    },
    {
     "name": "stdout",
     "output_type": "stream",
     "text": [
      "HTTP error occurred for OpenAlex ID https://openalex.org/W946779052: 404 Client Error: NOT FOUND for url: https://api.openalex.org/works/W946779052\n",
      "Failed to fetch data for OpenAlex ID: https://openalex.org/W946779052 after 10 attempts.\n"
     ]
    },
    {
     "name": "stderr",
     "output_type": "stream",
     "text": [
      "Processing Depth 3:   5%|▍         | 18869/379679 [4:03:28<131:22:07,  1.31s/it]"
     ]
    },
    {
     "name": "stdout",
     "output_type": "stream",
     "text": [
      "HTTP error occurred for OpenAlex ID https://openalex.org/W959920654: 404 Client Error: NOT FOUND for url: https://api.openalex.org/works/W959920654\n",
      "Failed to fetch data for OpenAlex ID: https://openalex.org/W959920654 after 10 attempts.\n"
     ]
    },
    {
     "name": "stderr",
     "output_type": "stream",
     "text": [
      "Processing Depth 3:   5%|▍         | 18870/379679 [4:03:29<130:08:37,  1.30s/it]"
     ]
    },
    {
     "name": "stdout",
     "output_type": "stream",
     "text": [
      "HTTP error occurred for OpenAlex ID https://openalex.org/W978160713: 404 Client Error: NOT FOUND for url: https://api.openalex.org/works/W978160713\n",
      "Failed to fetch data for OpenAlex ID: https://openalex.org/W978160713 after 10 attempts.\n"
     ]
    },
    {
     "name": "stderr",
     "output_type": "stream",
     "text": [
      "Processing Depth 3:   5%|▍         | 18871/379679 [4:03:30<126:27:36,  1.26s/it]"
     ]
    },
    {
     "name": "stdout",
     "output_type": "stream",
     "text": [
      "HTTP error occurred for OpenAlex ID https://openalex.org/W988935534: 404 Client Error: NOT FOUND for url: https://api.openalex.org/works/W988935534\n",
      "Failed to fetch data for OpenAlex ID: https://openalex.org/W988935534 after 10 attempts.\n"
     ]
    },
    {
     "name": "stderr",
     "output_type": "stream",
     "text": [
      "Processing Depth 3:   5%|▌         | 19051/379679 [4:05:48<152:27:16,  1.52s/it]"
     ]
    },
    {
     "name": "stdout",
     "output_type": "stream",
     "text": [
      "HTTP error occurred for OpenAlex ID https://openalex.org/W1946858879: 404 Client Error: NOT FOUND for url: https://api.openalex.org/works/W1946858879\n",
      "Failed to fetch data for OpenAlex ID: https://openalex.org/W1946858879 after 10 attempts.\n"
     ]
    },
    {
     "name": "stderr",
     "output_type": "stream",
     "text": [
      "Processing Depth 3:   5%|▌         | 19068/379679 [4:06:15<245:54:13,  2.45s/it]"
     ]
    },
    {
     "name": "stdout",
     "output_type": "stream",
     "text": [
      "HTTP error occurred for OpenAlex ID https://openalex.org/W3100077990: 404 Client Error: NOT FOUND for url: https://api.openalex.org/works/W3100077990\n",
      "Failed to fetch data for OpenAlex ID: https://openalex.org/W3100077990 after 10 attempts.\n"
     ]
    },
    {
     "name": "stderr",
     "output_type": "stream",
     "text": [
      "Processing Depth 3:   5%|▌         | 19303/379679 [4:09:01<71:08:25,  1.41it/s] "
     ]
    },
    {
     "name": "stdout",
     "output_type": "stream",
     "text": [
      "HTTP error occurred for OpenAlex ID https://openalex.org/W1858188162: 404 Client Error: NOT FOUND for url: https://api.openalex.org/works/W1858188162\n",
      "Failed to fetch data for OpenAlex ID: https://openalex.org/W1858188162 after 10 attempts.\n"
     ]
    },
    {
     "name": "stderr",
     "output_type": "stream",
     "text": [
      "Processing Depth 3:   5%|▌         | 19308/379679 [4:09:10<150:30:28,  1.50s/it]"
     ]
    },
    {
     "name": "stdout",
     "output_type": "stream",
     "text": [
      "HTTP error occurred for OpenAlex ID https://openalex.org/W1997103306: 404 Client Error: NOT FOUND for url: https://api.openalex.org/works/W1997103306\n",
      "Failed to fetch data for OpenAlex ID: https://openalex.org/W1997103306 after 10 attempts.\n"
     ]
    },
    {
     "name": "stderr",
     "output_type": "stream",
     "text": [
      "Processing Depth 3:   5%|▌         | 19309/379679 [4:09:10<126:16:35,  1.26s/it]"
     ]
    },
    {
     "name": "stdout",
     "output_type": "stream",
     "text": [
      "HTTP error occurred for OpenAlex ID https://openalex.org/W2012072612: 404 Client Error: NOT FOUND for url: https://api.openalex.org/works/W2012072612\n",
      "Failed to fetch data for OpenAlex ID: https://openalex.org/W2012072612 after 10 attempts.\n"
     ]
    },
    {
     "name": "stderr",
     "output_type": "stream",
     "text": [
      "Processing Depth 3:   5%|▌         | 19312/379679 [4:09:14<124:10:53,  1.24s/it]"
     ]
    },
    {
     "name": "stdout",
     "output_type": "stream",
     "text": [
      "HTTP error occurred for OpenAlex ID https://openalex.org/W2053710880: 404 Client Error: NOT FOUND for url: https://api.openalex.org/works/W2053710880\n",
      "Failed to fetch data for OpenAlex ID: https://openalex.org/W2053710880 after 10 attempts.\n"
     ]
    },
    {
     "name": "stderr",
     "output_type": "stream",
     "text": [
      "Processing Depth 3:   5%|▌         | 19313/379679 [4:09:16<129:55:30,  1.30s/it]"
     ]
    },
    {
     "name": "stdout",
     "output_type": "stream",
     "text": [
      "HTTP error occurred for OpenAlex ID https://openalex.org/W2054757700: 404 Client Error: NOT FOUND for url: https://api.openalex.org/works/W2054757700\n",
      "Failed to fetch data for OpenAlex ID: https://openalex.org/W2054757700 after 10 attempts.\n"
     ]
    },
    {
     "name": "stderr",
     "output_type": "stream",
     "text": [
      "Processing Depth 3:   5%|▌         | 19315/379679 [4:09:17<107:25:47,  1.07s/it]"
     ]
    },
    {
     "name": "stdout",
     "output_type": "stream",
     "text": [
      "HTTP error occurred for OpenAlex ID https://openalex.org/W2060450049: 404 Client Error: NOT FOUND for url: https://api.openalex.org/works/W2060450049\n",
      "Failed to fetch data for OpenAlex ID: https://openalex.org/W2060450049 after 10 attempts.\n"
     ]
    },
    {
     "name": "stderr",
     "output_type": "stream",
     "text": [
      "Processing Depth 3:   5%|▌         | 19318/379679 [4:09:20<106:01:56,  1.06s/it]"
     ]
    },
    {
     "name": "stdout",
     "output_type": "stream",
     "text": [
      "HTTP error occurred for OpenAlex ID https://openalex.org/W2081730151: 404 Client Error: NOT FOUND for url: https://api.openalex.org/works/W2081730151\n",
      "Failed to fetch data for OpenAlex ID: https://openalex.org/W2081730151 after 10 attempts.\n"
     ]
    },
    {
     "name": "stderr",
     "output_type": "stream",
     "text": [
      "Processing Depth 3:   5%|▌         | 19334/379679 [4:09:40<140:22:47,  1.40s/it]"
     ]
    },
    {
     "name": "stdout",
     "output_type": "stream",
     "text": [
      "HTTP error occurred for OpenAlex ID https://openalex.org/W2166231717: 404 Client Error: NOT FOUND for url: https://api.openalex.org/works/W2166231717\n",
      "Failed to fetch data for OpenAlex ID: https://openalex.org/W2166231717 after 10 attempts.\n"
     ]
    },
    {
     "name": "stderr",
     "output_type": "stream",
     "text": [
      "Processing Depth 3:   5%|▌         | 19432/379679 [4:10:47<94:31:17,  1.06it/s] "
     ]
    },
    {
     "name": "stdout",
     "output_type": "stream",
     "text": [
      "HTTP error occurred for OpenAlex ID https://openalex.org/W2250112899: 404 Client Error: NOT FOUND for url: https://api.openalex.org/works/W2250112899\n",
      "Failed to fetch data for OpenAlex ID: https://openalex.org/W2250112899 after 10 attempts.\n"
     ]
    },
    {
     "name": "stderr",
     "output_type": "stream",
     "text": [
      "Processing Depth 3:   5%|▌         | 20001/379679 [4:19:07<168:55:16,  1.69s/it]"
     ]
    },
    {
     "name": "stdout",
     "output_type": "stream",
     "text": [
      "\n",
      "\n",
      "File for Depth-3, Count-20000 : Saved\n",
      "Number of Unique Papers at Depth-3, Count-20000 (cummulative of all depths) : 25595\n",
      "\n",
      "\n"
     ]
    },
    {
     "name": "stderr",
     "output_type": "stream",
     "text": [
      "Processing Depth 3:   6%|▌         | 21000/379679 [4:41:12<198:25:44,  1.99s/it]"
     ]
    },
    {
     "name": "stdout",
     "output_type": "stream",
     "text": [
      "\n",
      "\n",
      "File for Depth-3, Count-21000 : Saved\n",
      "Number of Unique Papers at Depth-3, Count-21000 (cummulative of all depths) : 26385\n",
      "\n",
      "\n"
     ]
    },
    {
     "name": "stderr",
     "output_type": "stream",
     "text": [
      "Processing Depth 3:   6%|▌         | 22000/379679 [4:59:11<117:35:52,  1.18s/it]"
     ]
    },
    {
     "name": "stdout",
     "output_type": "stream",
     "text": [
      "\n",
      "\n",
      "File for Depth-3, Count-22000 : Saved\n",
      "Number of Unique Papers at Depth-3, Count-22000 (cummulative of all depths) : 27100\n",
      "\n",
      "\n"
     ]
    },
    {
     "name": "stderr",
     "output_type": "stream",
     "text": [
      "Processing Depth 3:   6%|▌         | 23001/379679 [5:14:19<153:52:13,  1.55s/it]"
     ]
    },
    {
     "name": "stdout",
     "output_type": "stream",
     "text": [
      "\n",
      "\n",
      "File for Depth-3, Count-23000 : Saved\n",
      "Number of Unique Papers at Depth-3, Count-23000 (cummulative of all depths) : 27690\n",
      "\n",
      "\n"
     ]
    },
    {
     "name": "stderr",
     "output_type": "stream",
     "text": [
      "Processing Depth 3:   6%|▌         | 23311/379679 [5:18:31<91:41:26,  1.08it/s] "
     ]
    },
    {
     "name": "stdout",
     "output_type": "stream",
     "text": [
      "HTTP error occurred for OpenAlex ID https://openalex.org/W2104241941: 404 Client Error: NOT FOUND for url: https://api.openalex.org/works/W2104241941\n",
      "Failed to fetch data for OpenAlex ID: https://openalex.org/W2104241941 after 10 attempts.\n"
     ]
    },
    {
     "name": "stderr",
     "output_type": "stream",
     "text": [
      "Processing Depth 3:   6%|▋         | 24000/379679 [5:28:35<89:23:30,  1.11it/s] "
     ]
    },
    {
     "name": "stdout",
     "output_type": "stream",
     "text": [
      "\n",
      "\n",
      "File for Depth-3, Count-24000 : Saved\n",
      "Number of Unique Papers at Depth-3, Count-24000 (cummulative of all depths) : 28255\n",
      "\n",
      "\n"
     ]
    },
    {
     "name": "stderr",
     "output_type": "stream",
     "text": [
      "Processing Depth 3:   6%|▋         | 24334/379679 [5:34:01<61:08:26,  1.61it/s] "
     ]
    },
    {
     "name": "stdout",
     "output_type": "stream",
     "text": [
      "HTTP error occurred for OpenAlex ID https://openalex.org/W1516038907: 404 Client Error: NOT FOUND for url: https://api.openalex.org/works/W1516038907\n",
      "Failed to fetch data for OpenAlex ID: https://openalex.org/W1516038907 after 10 attempts.\n"
     ]
    },
    {
     "name": "stderr",
     "output_type": "stream",
     "text": [
      "Processing Depth 3:   6%|▋         | 24537/379679 [5:37:08<87:28:33,  1.13it/s] "
     ]
    },
    {
     "name": "stdout",
     "output_type": "stream",
     "text": [
      "HTTP error occurred for OpenAlex ID https://openalex.org/W1948357167: 404 Client Error: NOT FOUND for url: https://api.openalex.org/works/W1948357167\n",
      "Failed to fetch data for OpenAlex ID: https://openalex.org/W1948357167 after 10 attempts.\n"
     ]
    },
    {
     "name": "stderr",
     "output_type": "stream",
     "text": [
      "Processing Depth 3:   7%|▋         | 24911/379679 [5:40:15<118:41:39,  1.20s/it]"
     ]
    },
    {
     "name": "stdout",
     "output_type": "stream",
     "text": [
      "HTTP error occurred for OpenAlex ID https://openalex.org/W2074642696: 404 Client Error: NOT FOUND for url: https://api.openalex.org/works/W2074642696\n",
      "Failed to fetch data for OpenAlex ID: https://openalex.org/W2074642696 after 10 attempts.\n"
     ]
    },
    {
     "name": "stderr",
     "output_type": "stream",
     "text": [
      "Processing Depth 3:   7%|▋         | 25025/379679 [5:40:59<15:54:45,  6.19it/s] "
     ]
    },
    {
     "name": "stdout",
     "output_type": "stream",
     "text": [
      "HTTP error occurred for OpenAlex ID https://openalex.org/W2007878933: 404 Client Error: NOT FOUND for url: https://api.openalex.org/works/W2007878933\n",
      "Failed to fetch data for OpenAlex ID: https://openalex.org/W2007878933 after 10 attempts.\n"
     ]
    },
    {
     "name": "stderr",
     "output_type": "stream",
     "text": [
      "Processing Depth 3:   7%|▋         | 25252/379679 [5:42:51<62:04:12,  1.59it/s] "
     ]
    },
    {
     "name": "stdout",
     "output_type": "stream",
     "text": [
      "HTTP error occurred for OpenAlex ID https://openalex.org/W3104873989: 404 Client Error: NOT FOUND for url: https://api.openalex.org/works/W3104873989\n",
      "Failed to fetch data for OpenAlex ID: https://openalex.org/W3104873989 after 10 attempts.\n"
     ]
    },
    {
     "name": "stderr",
     "output_type": "stream",
     "text": [
      "Processing Depth 3:   7%|▋         | 25929/379679 [5:49:49<110:51:57,  1.13s/it]"
     ]
    },
    {
     "name": "stdout",
     "output_type": "stream",
     "text": [
      "HTTP error occurred for OpenAlex ID https://openalex.org/W1606508130: 404 Client Error: NOT FOUND for url: https://api.openalex.org/works/W1606508130\n",
      "Failed to fetch data for OpenAlex ID: https://openalex.org/W1606508130 after 10 attempts.\n"
     ]
    },
    {
     "name": "stderr",
     "output_type": "stream",
     "text": [
      "Processing Depth 3:   7%|▋         | 26000/379679 [5:50:43<133:10:39,  1.36s/it]"
     ]
    },
    {
     "name": "stdout",
     "output_type": "stream",
     "text": [
      "\n",
      "\n",
      "File for Depth-3, Count-26000 : Saved\n",
      "Number of Unique Papers at Depth-3, Count-26000 (cummulative of all depths) : 29158\n",
      "\n",
      "\n"
     ]
    },
    {
     "name": "stderr",
     "output_type": "stream",
     "text": [
      "Processing Depth 3:   7%|▋         | 28000/379679 [6:26:53<89:19:48,  1.09it/s] "
     ]
    },
    {
     "name": "stdout",
     "output_type": "stream",
     "text": [
      "\n",
      "\n",
      "File for Depth-3, Count-28000 : Saved\n",
      "Number of Unique Papers at Depth-3, Count-28000 (cummulative of all depths) : 30563\n",
      "\n",
      "\n"
     ]
    },
    {
     "name": "stderr",
     "output_type": "stream",
     "text": [
      "Processing Depth 3:   7%|▋         | 28064/379679 [6:28:21<111:36:57,  1.14s/it]"
     ]
    },
    {
     "name": "stdout",
     "output_type": "stream",
     "text": [
      "HTTP error occurred for OpenAlex ID https://openalex.org/W1948357167: 404 Client Error: NOT FOUND for url: https://api.openalex.org/works/W1948357167\n",
      "Failed to fetch data for OpenAlex ID: https://openalex.org/W1948357167 after 10 attempts.\n"
     ]
    },
    {
     "name": "stderr",
     "output_type": "stream",
     "text": [
      "Processing Depth 3:   7%|▋         | 28067/379679 [6:28:22<79:42:40,  1.23it/s] "
     ]
    },
    {
     "name": "stdout",
     "output_type": "stream",
     "text": [
      "HTTP error occurred for OpenAlex ID https://openalex.org/W299739017: 404 Client Error: NOT FOUND for url: https://api.openalex.org/works/W299739017\n",
      "Failed to fetch data for OpenAlex ID: https://openalex.org/W299739017 after 10 attempts.\n"
     ]
    },
    {
     "name": "stderr",
     "output_type": "stream",
     "text": [
      "Processing Depth 3:   8%|▊         | 29335/379679 [6:44:44<143:31:24,  1.47s/it]"
     ]
    },
    {
     "name": "stdout",
     "output_type": "stream",
     "text": [
      "HTTP error occurred for OpenAlex ID https://openalex.org/W2172015690: 404 Client Error: NOT FOUND for url: https://api.openalex.org/works/W2172015690\n",
      "Failed to fetch data for OpenAlex ID: https://openalex.org/W2172015690 after 10 attempts.\n"
     ]
    },
    {
     "name": "stderr",
     "output_type": "stream",
     "text": [
      "Processing Depth 3:   8%|▊         | 31000/379679 [7:06:04<43:21:13,  2.23it/s] "
     ]
    },
    {
     "name": "stdout",
     "output_type": "stream",
     "text": [
      "\n",
      "\n",
      "File for Depth-3, Count-31000 : Saved\n",
      "Number of Unique Papers at Depth-3, Count-31000 (cummulative of all depths) : 32055\n",
      "\n",
      "\n"
     ]
    },
    {
     "name": "stderr",
     "output_type": "stream",
     "text": [
      "Processing Depth 3:   9%|▉         | 34001/379679 [7:49:55<163:48:14,  1.71s/it]"
     ]
    },
    {
     "name": "stdout",
     "output_type": "stream",
     "text": [
      "\n",
      "\n",
      "File for Depth-3, Count-34000 : Saved\n",
      "Number of Unique Papers at Depth-3, Count-34000 (cummulative of all depths) : 33693\n",
      "\n",
      "\n"
     ]
    },
    {
     "name": "stderr",
     "output_type": "stream",
     "text": [
      "Processing Depth 3:   9%|▉         | 34561/379679 [7:54:32<74:36:04,  1.29it/s] "
     ]
    },
    {
     "name": "stdout",
     "output_type": "stream",
     "text": [
      "HTTP error occurred for OpenAlex ID https://openalex.org/W1489666298: 404 Client Error: NOT FOUND for url: https://api.openalex.org/works/W1489666298\n",
      "Failed to fetch data for OpenAlex ID: https://openalex.org/W1489666298 after 10 attempts.\n"
     ]
    },
    {
     "name": "stderr",
     "output_type": "stream",
     "text": [
      "Processing Depth 3:   9%|▉         | 34562/379679 [7:54:33<78:05:40,  1.23it/s]"
     ]
    },
    {
     "name": "stdout",
     "output_type": "stream",
     "text": [
      "HTTP error occurred for OpenAlex ID https://openalex.org/W1497736122: 404 Client Error: NOT FOUND for url: https://api.openalex.org/works/W1497736122\n",
      "Failed to fetch data for OpenAlex ID: https://openalex.org/W1497736122 after 10 attempts.\n"
     ]
    },
    {
     "name": "stderr",
     "output_type": "stream",
     "text": [
      "Processing Depth 3:   9%|▉         | 34616/379679 [7:55:40<142:35:17,  1.49s/it]"
     ]
    },
    {
     "name": "stdout",
     "output_type": "stream",
     "text": [
      "HTTP error occurred for OpenAlex ID https://openalex.org/W2737355816: 404 Client Error: NOT FOUND for url: https://api.openalex.org/works/W2737355816\n",
      "Failed to fetch data for OpenAlex ID: https://openalex.org/W2737355816 after 10 attempts.\n"
     ]
    },
    {
     "name": "stderr",
     "output_type": "stream",
     "text": [
      "Processing Depth 3:   9%|▉         | 34617/379679 [7:55:44<219:18:08,  2.29s/it]"
     ]
    },
    {
     "name": "stdout",
     "output_type": "stream",
     "text": [
      "HTTP error occurred for OpenAlex ID https://openalex.org/W2740484715: 404 Client Error: NOT FOUND for url: https://api.openalex.org/works/W2740484715\n",
      "Failed to fetch data for OpenAlex ID: https://openalex.org/W2740484715 after 10 attempts.\n"
     ]
    },
    {
     "name": "stderr",
     "output_type": "stream",
     "text": [
      "Processing Depth 3:   9%|▉         | 34618/379679 [7:55:45<192:20:13,  2.01s/it]"
     ]
    },
    {
     "name": "stdout",
     "output_type": "stream",
     "text": [
      "HTTP error occurred for OpenAlex ID https://openalex.org/W2855646249: 404 Client Error: NOT FOUND for url: https://api.openalex.org/works/W2855646249\n",
      "Failed to fetch data for OpenAlex ID: https://openalex.org/W2855646249 after 10 attempts.\n"
     ]
    },
    {
     "name": "stderr",
     "output_type": "stream",
     "text": [
      "Processing Depth 3:   9%|▉         | 34693/379679 [7:56:21<51:13:05,  1.87it/s] "
     ]
    },
    {
     "name": "stdout",
     "output_type": "stream",
     "text": [
      "HTTP error occurred for OpenAlex ID https://openalex.org/W2724306539: 404 Client Error: NOT FOUND for url: https://api.openalex.org/works/W2724306539\n",
      "Failed to fetch data for OpenAlex ID: https://openalex.org/W2724306539 after 10 attempts.\n"
     ]
    },
    {
     "name": "stderr",
     "output_type": "stream",
     "text": [
      "Processing Depth 3:   9%|▉         | 34902/379679 [7:58:30<57:20:10,  1.67it/s] "
     ]
    },
    {
     "name": "stdout",
     "output_type": "stream",
     "text": [
      "HTTP error occurred for OpenAlex ID https://openalex.org/W2401131605: 404 Client Error: NOT FOUND for url: https://api.openalex.org/works/W2401131605\n",
      "Failed to fetch data for OpenAlex ID: https://openalex.org/W2401131605 after 10 attempts.\n"
     ]
    },
    {
     "name": "stderr",
     "output_type": "stream",
     "text": [
      "Processing Depth 3:   9%|▉         | 35000/379679 [7:59:15<145:11:38,  1.52s/it]"
     ]
    },
    {
     "name": "stdout",
     "output_type": "stream",
     "text": [
      "\n",
      "\n",
      "File for Depth-3, Count-35000 : Saved\n",
      "Number of Unique Papers at Depth-3, Count-35000 (cummulative of all depths) : 34038\n",
      "\n",
      "\n"
     ]
    },
    {
     "name": "stderr",
     "output_type": "stream",
     "text": [
      "Processing Depth 3:   9%|▉         | 35272/379679 [8:02:49<51:02:11,  1.87it/s] "
     ]
    },
    {
     "name": "stdout",
     "output_type": "stream",
     "text": [
      "HTTP error occurred for OpenAlex ID https://openalex.org/W1573283184: 404 Client Error: NOT FOUND for url: https://api.openalex.org/works/W1573283184\n",
      "Failed to fetch data for OpenAlex ID: https://openalex.org/W1573283184 after 10 attempts.\n"
     ]
    },
    {
     "name": "stderr",
     "output_type": "stream",
     "text": [
      "Processing Depth 3:   9%|▉         | 35282/379679 [8:02:52<43:57:00,  2.18it/s]"
     ]
    },
    {
     "name": "stdout",
     "output_type": "stream",
     "text": [
      "HTTP error occurred for OpenAlex ID https://openalex.org/W963391659: 404 Client Error: NOT FOUND for url: https://api.openalex.org/works/W963391659\n",
      "Failed to fetch data for OpenAlex ID: https://openalex.org/W963391659 after 10 attempts.\n"
     ]
    },
    {
     "name": "stderr",
     "output_type": "stream",
     "text": [
      "Processing Depth 3:   9%|▉         | 35283/379679 [8:02:53<57:44:07,  1.66it/s]"
     ]
    },
    {
     "name": "stdout",
     "output_type": "stream",
     "text": [
      "HTTP error occurred for OpenAlex ID https://openalex.org/W994245291: 404 Client Error: NOT FOUND for url: https://api.openalex.org/works/W994245291\n",
      "Failed to fetch data for OpenAlex ID: https://openalex.org/W994245291 after 10 attempts.\n"
     ]
    },
    {
     "name": "stderr",
     "output_type": "stream",
     "text": [
      "Processing Depth 3:   9%|▉         | 35989/379679 [8:12:35<110:49:25,  1.16s/it]"
     ]
    },
    {
     "name": "stdout",
     "output_type": "stream",
     "text": [
      "HTTP error occurred for OpenAlex ID https://openalex.org/W1503279103: 404 Client Error: NOT FOUND for url: https://api.openalex.org/works/W1503279103\n",
      "Failed to fetch data for OpenAlex ID: https://openalex.org/W1503279103 after 10 attempts.\n"
     ]
    },
    {
     "name": "stderr",
     "output_type": "stream",
     "text": [
      "Processing Depth 3:  10%|▉         | 37000/379679 [8:27:01<62:35:09,  1.52it/s] "
     ]
    },
    {
     "name": "stdout",
     "output_type": "stream",
     "text": [
      "\n",
      "\n",
      "File for Depth-3, Count-37000 : Saved\n",
      "Number of Unique Papers at Depth-3, Count-37000 (cummulative of all depths) : 35127\n",
      "\n",
      "\n"
     ]
    },
    {
     "name": "stderr",
     "output_type": "stream",
     "text": [
      "Processing Depth 3:  10%|█         | 38000/379679 [8:35:56<34:00:52,  2.79it/s] "
     ]
    },
    {
     "name": "stdout",
     "output_type": "stream",
     "text": [
      "\n",
      "\n",
      "File for Depth-3, Count-38000 : Saved\n",
      "Number of Unique Papers at Depth-3, Count-38000 (cummulative of all depths) : 35504\n",
      "\n",
      "\n"
     ]
    },
    {
     "name": "stderr",
     "output_type": "stream",
     "text": [
      "Processing Depth 3:  10%|█         | 38964/379679 [8:48:57<32:52:46,  2.88it/s] "
     ]
    },
    {
     "name": "stdout",
     "output_type": "stream",
     "text": [
      "HTTP error occurred for OpenAlex ID https://openalex.org/W1549036680: 404 Client Error: NOT FOUND for url: https://api.openalex.org/works/W1549036680\n",
      "Failed to fetch data for OpenAlex ID: https://openalex.org/W1549036680 after 10 attempts.\n"
     ]
    },
    {
     "name": "stderr",
     "output_type": "stream",
     "text": [
      "Processing Depth 3:  10%|█         | 38968/379679 [8:48:59<44:51:48,  2.11it/s]"
     ]
    },
    {
     "name": "stdout",
     "output_type": "stream",
     "text": [
      "HTTP error occurred for OpenAlex ID https://openalex.org/W1932966877: 404 Client Error: NOT FOUND for url: https://api.openalex.org/works/W1932966877\n",
      "Failed to fetch data for OpenAlex ID: https://openalex.org/W1932966877 after 10 attempts.\n"
     ]
    },
    {
     "name": "stderr",
     "output_type": "stream",
     "text": [
      "Processing Depth 3:  10%|█         | 38991/379679 [8:49:22<120:48:35,  1.28s/it]"
     ]
    },
    {
     "name": "stdout",
     "output_type": "stream",
     "text": [
      "HTTP error occurred for OpenAlex ID https://openalex.org/W2566152121: 404 Client Error: NOT FOUND for url: https://api.openalex.org/works/W2566152121\n",
      "Failed to fetch data for OpenAlex ID: https://openalex.org/W2566152121 after 10 attempts.\n"
     ]
    },
    {
     "name": "stderr",
     "output_type": "stream",
     "text": [
      "Processing Depth 3:  10%|█         | 38992/379679 [8:49:23<131:29:59,  1.39s/it]"
     ]
    },
    {
     "name": "stdout",
     "output_type": "stream",
     "text": [
      "HTTP error occurred for OpenAlex ID https://openalex.org/W2612440758: 404 Client Error: NOT FOUND for url: https://api.openalex.org/works/W2612440758\n",
      "Failed to fetch data for OpenAlex ID: https://openalex.org/W2612440758 after 10 attempts.\n"
     ]
    },
    {
     "name": "stderr",
     "output_type": "stream",
     "text": [
      "Processing Depth 3:  10%|█         | 39000/379679 [8:49:30<88:33:25,  1.07it/s] "
     ]
    },
    {
     "name": "stdout",
     "output_type": "stream",
     "text": [
      "\n",
      "\n",
      "File for Depth-3, Count-39000 : Saved\n",
      "Number of Unique Papers at Depth-3, Count-39000 (cummulative of all depths) : 36087\n",
      "\n",
      "\n"
     ]
    },
    {
     "name": "stderr",
     "output_type": "stream",
     "text": [
      "Processing Depth 3:  11%|█         | 41000/379679 [9:11:59<43:53:16,  2.14it/s] "
     ]
    },
    {
     "name": "stdout",
     "output_type": "stream",
     "text": [
      "\n",
      "\n",
      "File for Depth-3, Count-41000 : Saved\n",
      "Number of Unique Papers at Depth-3, Count-41000 (cummulative of all depths) : 37194\n",
      "\n",
      "\n"
     ]
    },
    {
     "name": "stderr",
     "output_type": "stream",
     "text": [
      "Processing Depth 3:  11%|█         | 42000/379679 [9:24:27<107:23:05,  1.14s/it]"
     ]
    },
    {
     "name": "stdout",
     "output_type": "stream",
     "text": [
      "\n",
      "\n",
      "File for Depth-3, Count-42000 : Saved\n",
      "Number of Unique Papers at Depth-3, Count-42000 (cummulative of all depths) : 37828\n",
      "\n",
      "\n"
     ]
    },
    {
     "name": "stderr",
     "output_type": "stream",
     "text": [
      "Processing Depth 3:  11%|█▏        | 42766/379679 [9:30:18<13:13:06,  7.08it/s] "
     ]
    },
    {
     "name": "stdout",
     "output_type": "stream",
     "text": [
      "HTTP error occurred for OpenAlex ID https://openalex.org/W1604821964: 404 Client Error: NOT FOUND for url: https://api.openalex.org/works/W1604821964\n",
      "Failed to fetch data for OpenAlex ID: https://openalex.org/W1604821964 after 10 attempts.\n"
     ]
    },
    {
     "name": "stderr",
     "output_type": "stream",
     "text": [
      "Processing Depth 3:  11%|█▏        | 42804/379679 [9:30:38<68:08:32,  1.37it/s]"
     ]
    },
    {
     "name": "stdout",
     "output_type": "stream",
     "text": [
      "HTTP error occurred for OpenAlex ID https://openalex.org/W2205884999: 404 Client Error: NOT FOUND for url: https://api.openalex.org/works/W2205884999\n",
      "Failed to fetch data for OpenAlex ID: https://openalex.org/W2205884999 after 10 attempts.\n"
     ]
    },
    {
     "name": "stderr",
     "output_type": "stream",
     "text": [
      "Processing Depth 3:  11%|█▏        | 42805/379679 [9:30:39<70:38:59,  1.32it/s]"
     ]
    },
    {
     "name": "stdout",
     "output_type": "stream",
     "text": [
      "HTTP error occurred for OpenAlex ID https://openalex.org/W2209938923: 404 Client Error: NOT FOUND for url: https://api.openalex.org/works/W2209938923\n",
      "Failed to fetch data for OpenAlex ID: https://openalex.org/W2209938923 after 10 attempts.\n"
     ]
    },
    {
     "name": "stderr",
     "output_type": "stream",
     "text": [
      "Processing Depth 3:  11%|█▏        | 42806/379679 [9:30:40<62:10:20,  1.51it/s]"
     ]
    },
    {
     "name": "stdout",
     "output_type": "stream",
     "text": [
      "HTTP error occurred for OpenAlex ID https://openalex.org/W2273841924: 404 Client Error: NOT FOUND for url: https://api.openalex.org/works/W2273841924\n",
      "Failed to fetch data for OpenAlex ID: https://openalex.org/W2273841924 after 10 attempts.\n"
     ]
    },
    {
     "name": "stderr",
     "output_type": "stream",
     "text": [
      "Processing Depth 3:  11%|█▏        | 42807/379679 [9:30:40<68:08:44,  1.37it/s]"
     ]
    },
    {
     "name": "stdout",
     "output_type": "stream",
     "text": [
      "HTTP error occurred for OpenAlex ID https://openalex.org/W2274527604: 404 Client Error: NOT FOUND for url: https://api.openalex.org/works/W2274527604\n",
      "Failed to fetch data for OpenAlex ID: https://openalex.org/W2274527604 after 10 attempts.\n"
     ]
    },
    {
     "name": "stderr",
     "output_type": "stream",
     "text": [
      "Processing Depth 3:  12%|█▏        | 44000/379679 [9:37:11<18:46:46,  4.97it/s] "
     ]
    },
    {
     "name": "stdout",
     "output_type": "stream",
     "text": [
      "\n",
      "\n",
      "File for Depth-3, Count-44000 : Saved\n",
      "Number of Unique Papers at Depth-3, Count-44000 (cummulative of all depths) : 38505\n",
      "\n",
      "\n"
     ]
    },
    {
     "name": "stderr",
     "output_type": "stream",
     "text": [
      "Processing Depth 3:  12%|█▏        | 44068/379679 [9:37:55<76:15:48,  1.22it/s] "
     ]
    },
    {
     "name": "stdout",
     "output_type": "stream",
     "text": [
      "HTTP error occurred for OpenAlex ID https://openalex.org/W1604773719: 404 Client Error: NOT FOUND for url: https://api.openalex.org/works/W1604773719\n",
      "Failed to fetch data for OpenAlex ID: https://openalex.org/W1604773719 after 10 attempts.\n"
     ]
    },
    {
     "name": "stderr",
     "output_type": "stream",
     "text": [
      "Processing Depth 3:  12%|█▏        | 44069/379679 [9:37:56<83:46:51,  1.11it/s]"
     ]
    },
    {
     "name": "stdout",
     "output_type": "stream",
     "text": [
      "HTTP error occurred for OpenAlex ID https://openalex.org/W1870339432: 404 Client Error: NOT FOUND for url: https://api.openalex.org/works/W1870339432\n",
      "Failed to fetch data for OpenAlex ID: https://openalex.org/W1870339432 after 10 attempts.\n"
     ]
    },
    {
     "name": "stderr",
     "output_type": "stream",
     "text": [
      "Processing Depth 3:  12%|█▏        | 44078/379679 [9:38:02<69:21:40,  1.34it/s]"
     ]
    },
    {
     "name": "stdout",
     "output_type": "stream",
     "text": [
      "HTTP error occurred for OpenAlex ID https://openalex.org/W2147081095: 404 Client Error: NOT FOUND for url: https://api.openalex.org/works/W2147081095\n",
      "Failed to fetch data for OpenAlex ID: https://openalex.org/W2147081095 after 10 attempts.\n"
     ]
    },
    {
     "name": "stderr",
     "output_type": "stream",
     "text": [
      "Processing Depth 3:  12%|█▏        | 44079/379679 [9:38:03<82:28:52,  1.13it/s]"
     ]
    },
    {
     "name": "stdout",
     "output_type": "stream",
     "text": [
      "HTTP error occurred for OpenAlex ID https://openalex.org/W2171737600: 404 Client Error: NOT FOUND for url: https://api.openalex.org/works/W2171737600\n",
      "Failed to fetch data for OpenAlex ID: https://openalex.org/W2171737600 after 10 attempts.\n"
     ]
    },
    {
     "name": "stderr",
     "output_type": "stream",
     "text": [
      "Processing Depth 3:  12%|█▏        | 44080/379679 [9:38:04<78:29:38,  1.19it/s]"
     ]
    },
    {
     "name": "stdout",
     "output_type": "stream",
     "text": [
      "HTTP error occurred for OpenAlex ID https://openalex.org/W2201006395: 404 Client Error: NOT FOUND for url: https://api.openalex.org/works/W2201006395\n",
      "Failed to fetch data for OpenAlex ID: https://openalex.org/W2201006395 after 10 attempts.\n"
     ]
    },
    {
     "name": "stderr",
     "output_type": "stream",
     "text": [
      "Processing Depth 3:  12%|█▏        | 44081/379679 [9:38:05<82:55:11,  1.12it/s]"
     ]
    },
    {
     "name": "stdout",
     "output_type": "stream",
     "text": [
      "HTTP error occurred for OpenAlex ID https://openalex.org/W2266506095: 404 Client Error: NOT FOUND for url: https://api.openalex.org/works/W2266506095\n",
      "Failed to fetch data for OpenAlex ID: https://openalex.org/W2266506095 after 10 attempts.\n"
     ]
    },
    {
     "name": "stderr",
     "output_type": "stream",
     "text": [
      "Processing Depth 3:  12%|█▏        | 44082/379679 [9:38:06<81:47:57,  1.14it/s]"
     ]
    },
    {
     "name": "stdout",
     "output_type": "stream",
     "text": [
      "HTTP error occurred for OpenAlex ID https://openalex.org/W2402563421: 404 Client Error: NOT FOUND for url: https://api.openalex.org/works/W2402563421\n",
      "Failed to fetch data for OpenAlex ID: https://openalex.org/W2402563421 after 10 attempts.\n"
     ]
    },
    {
     "name": "stderr",
     "output_type": "stream",
     "text": [
      "Processing Depth 3:  12%|█▏        | 44083/379679 [9:38:06<73:38:22,  1.27it/s]"
     ]
    },
    {
     "name": "stdout",
     "output_type": "stream",
     "text": [
      "HTTP error occurred for OpenAlex ID https://openalex.org/W977159574: 404 Client Error: NOT FOUND for url: https://api.openalex.org/works/W977159574\n",
      "Failed to fetch data for OpenAlex ID: https://openalex.org/W977159574 after 10 attempts.\n"
     ]
    },
    {
     "name": "stderr",
     "output_type": "stream",
     "text": [
      "Processing Depth 3:  12%|█▏        | 45549/379679 [9:47:09<40:06:55,  2.31it/s] "
     ]
    },
    {
     "name": "stdout",
     "output_type": "stream",
     "text": [
      "HTTP error occurred for OpenAlex ID https://openalex.org/W1480047485: 404 Client Error: NOT FOUND for url: https://api.openalex.org/works/W1480047485\n",
      "Failed to fetch data for OpenAlex ID: https://openalex.org/W1480047485 after 10 attempts.\n"
     ]
    },
    {
     "name": "stderr",
     "output_type": "stream",
     "text": [
      "Processing Depth 3:  12%|█▏        | 45550/379679 [9:47:10<50:31:23,  1.84it/s]"
     ]
    },
    {
     "name": "stdout",
     "output_type": "stream",
     "text": [
      "HTTP error occurred for OpenAlex ID https://openalex.org/W1493340258: 404 Client Error: NOT FOUND for url: https://api.openalex.org/works/W1493340258\n",
      "Failed to fetch data for OpenAlex ID: https://openalex.org/W1493340258 after 10 attempts.\n"
     ]
    },
    {
     "name": "stderr",
     "output_type": "stream",
     "text": [
      "Processing Depth 3:  12%|█▏        | 45568/379679 [9:47:13<20:13:54,  4.59it/s]"
     ]
    },
    {
     "name": "stdout",
     "output_type": "stream",
     "text": [
      "HTTP error occurred for OpenAlex ID https://openalex.org/W2271316167: 404 Client Error: NOT FOUND for url: https://api.openalex.org/works/W2271316167\n",
      "Failed to fetch data for OpenAlex ID: https://openalex.org/W2271316167 after 10 attempts.\n"
     ]
    },
    {
     "name": "stderr",
     "output_type": "stream",
     "text": [
      "Processing Depth 3:  12%|█▏        | 45569/379679 [9:47:14<22:17:37,  4.16it/s]"
     ]
    },
    {
     "name": "stdout",
     "output_type": "stream",
     "text": [
      "HTTP error occurred for OpenAlex ID https://openalex.org/W2281123523: 404 Client Error: NOT FOUND for url: https://api.openalex.org/works/W2281123523\n",
      "Failed to fetch data for OpenAlex ID: https://openalex.org/W2281123523 after 10 attempts.\n"
     ]
    },
    {
     "name": "stderr",
     "output_type": "stream",
     "text": [
      "Processing Depth 3:  12%|█▏        | 46000/379679 [9:51:51<98:27:36,  1.06s/it] "
     ]
    },
    {
     "name": "stdout",
     "output_type": "stream",
     "text": [
      "\n",
      "\n",
      "File for Depth-3, Count-46000 : Saved\n",
      "Number of Unique Papers at Depth-3, Count-46000 (cummulative of all depths) : 39411\n",
      "\n",
      "\n"
     ]
    },
    {
     "name": "stderr",
     "output_type": "stream",
     "text": [
      "Processing Depth 3:  12%|█▏        | 46560/379679 [9:54:57<17:20:16,  5.34it/s] "
     ]
    },
    {
     "name": "stdout",
     "output_type": "stream",
     "text": [
      "HTTP error occurred for OpenAlex ID https://openalex.org/W1579404597: 404 Client Error: NOT FOUND for url: https://api.openalex.org/works/W1579404597\n",
      "Failed to fetch data for OpenAlex ID: https://openalex.org/W1579404597 after 10 attempts.\n"
     ]
    },
    {
     "name": "stderr",
     "output_type": "stream",
     "text": [
      "Processing Depth 3:  12%|█▏        | 46574/379679 [9:55:02<29:16:43,  3.16it/s]"
     ]
    },
    {
     "name": "stdout",
     "output_type": "stream",
     "text": [
      "HTTP error occurred for OpenAlex ID https://openalex.org/W2305141285: 404 Client Error: NOT FOUND for url: https://api.openalex.org/works/W2305141285\n",
      "Failed to fetch data for OpenAlex ID: https://openalex.org/W2305141285 after 10 attempts.\n"
     ]
    },
    {
     "name": "stderr",
     "output_type": "stream",
     "text": [
      "Processing Depth 3:  13%|█▎        | 48000/379679 [10:04:05<32:40:27,  2.82it/s] "
     ]
    },
    {
     "name": "stdout",
     "output_type": "stream",
     "text": [
      "\n",
      "\n",
      "File for Depth-3, Count-48000 : Saved\n",
      "Number of Unique Papers at Depth-3, Count-48000 (cummulative of all depths) : 40220\n",
      "\n",
      "\n"
     ]
    },
    {
     "name": "stderr",
     "output_type": "stream",
     "text": [
      "Processing Depth 3:  13%|█▎        | 49001/379679 [10:11:35<176:24:55,  1.92s/it]"
     ]
    },
    {
     "name": "stdout",
     "output_type": "stream",
     "text": [
      "\n",
      "\n",
      "File for Depth-3, Count-49000 : Saved\n",
      "Number of Unique Papers at Depth-3, Count-49000 (cummulative of all depths) : 40737\n",
      "\n",
      "\n"
     ]
    },
    {
     "name": "stderr",
     "output_type": "stream",
     "text": [
      "Processing Depth 3:  13%|█▎        | 50990/379679 [10:24:25<8:49:28, 10.35it/s]  "
     ]
    },
    {
     "name": "stdout",
     "output_type": "stream",
     "text": [
      "HTTP error occurred for OpenAlex ID https://openalex.org/W1534690831: 404 Client Error: NOT FOUND for url: https://api.openalex.org/works/W1534690831\n",
      "Failed to fetch data for OpenAlex ID: https://openalex.org/W1534690831 after 10 attempts.\n"
     ]
    },
    {
     "name": "stderr",
     "output_type": "stream",
     "text": [
      "Processing Depth 3:  13%|█▎        | 51000/379679 [10:24:31<35:36:40,  2.56it/s]"
     ]
    },
    {
     "name": "stdout",
     "output_type": "stream",
     "text": [
      "\n",
      "\n",
      "File for Depth-3, Count-51000 : Saved\n",
      "Number of Unique Papers at Depth-3, Count-51000 (cummulative of all depths) : 41641\n",
      "\n",
      "\n"
     ]
    },
    {
     "name": "stderr",
     "output_type": "stream",
     "text": [
      "Processing Depth 3:  14%|█▎        | 51397/379679 [10:27:36<21:47:55,  4.18it/s] "
     ]
    },
    {
     "name": "stdout",
     "output_type": "stream",
     "text": [
      "HTTP error occurred for OpenAlex ID https://openalex.org/W2426267443: 404 Client Error: NOT FOUND for url: https://api.openalex.org/works/W2426267443\n",
      "Failed to fetch data for OpenAlex ID: https://openalex.org/W2426267443 after 10 attempts.\n"
     ]
    },
    {
     "name": "stderr",
     "output_type": "stream",
     "text": [
      "Processing Depth 3:  14%|█▎        | 51798/379679 [10:30:43<62:49:40,  1.45it/s] "
     ]
    },
    {
     "name": "stdout",
     "output_type": "stream",
     "text": [
      "HTTP error occurred for OpenAlex ID https://openalex.org/W2270187672: 404 Client Error: NOT FOUND for url: https://api.openalex.org/works/W2270187672\n",
      "Failed to fetch data for OpenAlex ID: https://openalex.org/W2270187672 after 10 attempts.\n"
     ]
    },
    {
     "name": "stderr",
     "output_type": "stream",
     "text": [
      "Processing Depth 3:  14%|█▍        | 53515/379679 [10:40:06<26:26:58,  3.43it/s]"
     ]
    },
    {
     "name": "stdout",
     "output_type": "stream",
     "text": [
      "HTTP error occurred for OpenAlex ID https://openalex.org/W2435623039: 404 Client Error: NOT FOUND for url: https://api.openalex.org/works/W2435623039\n",
      "Failed to fetch data for OpenAlex ID: https://openalex.org/W2435623039 after 10 attempts.\n"
     ]
    },
    {
     "name": "stderr",
     "output_type": "stream",
     "text": [
      "Processing Depth 3:  14%|█▍        | 55001/379679 [10:48:37<156:17:39,  1.73s/it]"
     ]
    },
    {
     "name": "stdout",
     "output_type": "stream",
     "text": [
      "\n",
      "\n",
      "File for Depth-3, Count-55000 : Saved\n",
      "Number of Unique Papers at Depth-3, Count-55000 (cummulative of all depths) : 43490\n",
      "\n",
      "\n"
     ]
    },
    {
     "name": "stderr",
     "output_type": "stream",
     "text": [
      "Processing Depth 3:  15%|█▍        | 55251/379679 [10:50:10<36:50:25,  2.45it/s] "
     ]
    },
    {
     "name": "stdout",
     "output_type": "stream",
     "text": [
      "HTTP error occurred for OpenAlex ID https://openalex.org/W1559815764: 404 Client Error: NOT FOUND for url: https://api.openalex.org/works/W1559815764\n",
      "Failed to fetch data for OpenAlex ID: https://openalex.org/W1559815764 after 10 attempts.\n"
     ]
    },
    {
     "name": "stderr",
     "output_type": "stream",
     "text": [
      "Processing Depth 3:  15%|█▍        | 55409/379679 [10:51:01<16:28:49,  5.47it/s]"
     ]
    }
   ],
   "source": [
    "\n",
    "# Titles of the papers:\n",
    "# 1. \"Attention Is All You Need\"\n",
    "# 2. \"BERT: Pre-training of Deep Bidirectional Transformers for Language Understanding\"\n",
    "# 3. \"Deep Residual Learning for Image Recognition\"\n",
    "# 4. \"Generative Adversarial Nets\"\n",
    "# 5. \"Adam: A Method for Stochastic Optimization\"\n",
    "# 6. \"YOLOv3: An Incremental Improvement\"\n",
    "# 7. \"Neural Architecture Search with Reinforcement Learning\"\n",
    "# 8. \"The Lottery Ticket Hypothesis: Finding Sparse, Trainable Neural Networks\"\n",
    "# 9. \"Deep Learning for Natural Language Processing\"  XXX\n",
    "# 10. \"Deep Learning for Genomics: A Concise Overview\"\n",
    "# 11. \"Deep Learning for Healthcare: Review, Opportunities and Challenges\" XXX\n",
    "# 12. \"Deep Learning for Time Series Forecasting: The Electric Load Case\"\n",
    "# 13. \"Deep Learning for Image Super-Resolution: A Survey\" XXX\n",
    "# 14. \"Deep Learning for Anomaly Detection: A Survey\"\n",
    "# 15. \"Deep Learning for Recommender Systems: A Survey and New Perspectives\"\n",
    "# 16. \"YOLO9000: Better, Faster, Stronger\"\n",
    "# 17. \"EfficientNet: Rethinking Model Scaling for Convolutional Neural Networks\"\n",
    "# 18. \"XLNet: Generalized Autoregressive Pretraining for Language Understanding\"\n",
    "# 19. \"RoBERTa: A Robustly Optimized BERT Pretraining Approach\"\n",
    "# 20. \"GPT-3: Language Models are Few-Shot Learners\"\n",
    "# 21. \"Swin Transformer: Hierarchical Vision Transformer using Shifted Windows\"\n",
    "# 22. \"DALL·E: Creating Images from Text\"\n",
    "# 23. \"AlphaFold: A Solution to a 50-Year-Old Grand Challenge in Biology\"\n",
    "# 24. \"Neural Ordinary Differential Equations\"\n",
    "# 25. \"StyleGAN: A Style-Based Generator Architecture for Generative Adversarial Networks\"\n",
    "# 26. \"BERT: Pre-training of Deep Bidirectional Transformers for Language Understanding\"\n",
    "# 27. \"Deep Learning for Large-Scale Hierarchical Image Database\" XXX\n",
    "# 28. \"Deep Learning for Machine Translation by Jointly Learning to Align and Translate\"\n",
    "# 29. \"Playing Atari with Deep Reinforcement Learning\" XXX\n",
    "# 30. \"EfficientNet: Model Scaling for Convolutional Neural Networks\"\n",
    "\n",
    "seed_dois = [\n",
    "    \"10.48550/arXiv.1706.03762\",\n",
    "    \"10.18653/v1/N19-1423\",\n",
    "    \"10.1109/CVPR.2016.90\",\n",
    "    \"10.48550/arXiv.1406.2661\",\n",
    "    \"10.48550/arXiv.1412.6980\",\n",
    "    \"10.48550/arXiv.1804.02767\",\n",
    "    \"10.48550/arXiv.1611.01578\",\n",
    "    \"10.48550/arXiv.1803.03635\",\n",
    "    # \"10.2200/S00762ED1V01Y201501HLT027\", # XXX\n",
    "    \"10.1016/j.patcog.2019.107107\",\n",
    "    # \"10.1007/s10115-018-1149-0\", # XXX\n",
    "    \"10.1016/j.ijforecast.2016.01.001\",\n",
    "    # \"10.1109/TNNLS.2020.2966520\", # XXX\n",
    "    \"10.1145/3236009\",\n",
    "    \"10.1145/3285029\",\n",
    "    \"10.1109/CVPR.2017.690\",\n",
    "    \"10.48550/arXiv.1905.11946\",\n",
    "    \"10.48550/arXiv.1906.08237\",\n",
    "    \"10.48550/arXiv.1907.11692\",\n",
    "    \"10.48550/arXiv.2005.14165\",\n",
    "    \"10.48550/arXiv.2103.14030\",\n",
    "    \"10.48550/arXiv.2102.12092\",\n",
    "    \"10.1038/s41586-021-03819-2\",\n",
    "    \"10.48550/arXiv.1806.07366\",\n",
    "    \"10.1109/CVPR.2019.00453\",\n",
    "    \"10.1109/CVPR.2018.00727\",\n",
    "    # \"10.48550/arXiv.1705.08436\", # XXX\n",
    "    \"10.1109/CVPR.2017.424\",\n",
    "    # \"10.1109/TPAMI.2018.2844859\", # XXX\n",
    "    \"10.1109/CVPR.2019.00020\"\n",
    "]\n",
    "\n",
    "\n",
    "\n",
    "max_depth = 3\n",
    "data = fetch_references_bfs(seed_dois, max_depth=max_depth)\n",
    "\n",
    "with open(\"openalex_papers.json\", \"w\") as json_file:\n",
    "    json.dump(data, json_file, indent=2)\n",
    "print('Data Saved.')\n",
    "\n",
    "print(f'Number of Unique Papers = {len(data)}')\n"
   ]
  },
  {
   "cell_type": "code",
   "execution_count": 2,
   "metadata": {},
   "outputs": [
    {
     "name": "stdout",
     "output_type": "stream",
     "text": [
      "Dictionary loaded from JSON file:\n",
      "45140\n"
     ]
    }
   ],
   "source": [
    "import json\n",
    "\n",
    "with open('OpenAlex_Intermediate_Depth_3.json', 'r') as file:\n",
    "    data = json.load(file)\n",
    "print(\"Dictionary loaded from JSON file:\")\n",
    "\n",
    "print(len(data))"
   ]
  }
 ],
 "metadata": {
  "kernelspec": {
   "display_name": "base",
   "language": "python",
   "name": "python3"
  },
  "language_info": {
   "codemirror_mode": {
    "name": "ipython",
    "version": 3
   },
   "file_extension": ".py",
   "mimetype": "text/x-python",
   "name": "python",
   "nbconvert_exporter": "python",
   "pygments_lexer": "ipython3",
   "version": "3.11.4"
  },
  "orig_nbformat": 4
 },
 "nbformat": 4,
 "nbformat_minor": 2
}
